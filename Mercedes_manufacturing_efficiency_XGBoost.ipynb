{
 "cells": [
  {
   "cell_type": "markdown",
   "id": "cf94c238",
   "metadata": {},
   "source": [
    "# <center> Mercedes-Benz Greener Manufacturing </center>"
   ]
  },
  {
   "cell_type": "markdown",
   "id": "8edda19a",
   "metadata": {},
   "source": [
    "DESCRIPTION\n",
    "\n",
    "Reduce the time a Mercedes-Benz spends on the test bench.\n",
    "\n",
    "Problem Statement Scenario:\n",
    "Since the first automobile, the Benz Patent Motor Car in 1886, Mercedes-Benz has stood for important automotive innovations. These include the passenger safety cell with a crumple zone, the airbag, and intelligent assistance systems. Mercedes-Benz applies for nearly 2000 patents per year, making the brand the European leader among premium carmakers. Mercedes-Benz is the leader in the premium car industry. With a huge selection of features and options, customers can choose the customized Mercedes-Benz of their dreams.\n",
    "\n",
    "To ensure the safety and reliability of every unique car configuration before they hit the road, the company’s engineers have developed a robust testing system. As one of the world’s biggest manufacturers of premium cars, safety and efficiency are paramount on Mercedes-Benz’s production lines. However, optimizing the speed of their testing system for many possible feature combinations is complex and time-consuming without a powerful algorithmic approach.\n",
    "\n",
    "You are required to reduce the time that cars spend on the test bench. Others will work with a dataset representing different permutations of features in a Mercedes-Benz car to predict the time it takes to pass testing. Optimal algorithms will contribute to faster testing, resulting in lower carbon dioxide emissions without reducing Mercedes-Benz’s standards.\n",
    "\n",
    "Following actions should be performed:\n",
    "\n",
    "<ol>\n",
    "<li> If for any column(s), the variance is equal to zero, then you need to remove those variable(s). </li>\n",
    "<li> Check for null and unique values for test and train sets. </li> \n",
    "<li>    Apply label encoder. </li> \n",
    "<li>    Perform dimensionality reduction. </li> \n",
    "<li>    Predict your test_df values using XGBoost. </li> \n",
    "</ol>\n"
   ]
  },
  {
   "cell_type": "code",
   "execution_count": 1,
   "id": "b2a6cec3",
   "metadata": {},
   "outputs": [],
   "source": [
    "# All library needed here\n",
    "\n",
    "# Basic Data Science libraries\n",
    "import numpy as np\n",
    "import pandas as pd\n",
    "import matplotlib.pyplot as plt\n",
    "import seaborn as sns\n",
    "\n",
    "# Scikitlearn libraries\n",
    "from sklearn.model_selection import train_test_split\n",
    "from sklearn.preprocessing import LabelEncoder\n",
    "from sklearn.preprocessing import OneHotEncoder\n",
    "from sklearn.decomposition import PCA\n",
    "from xgboost import XGBRegressor\n",
    "import xgboost as xgb\n",
    "from sklearn.metrics import mean_squared_error, mean_absolute_error, r2_score\n",
    "from sklearn.model_selection import cross_val_score\n",
    "from sklearn import ensemble\n",
    "from sklearn.model_selection import GridSearchCV, RandomizedSearchCV\n"
   ]
  },
  {
   "cell_type": "markdown",
   "id": "cb362314",
   "metadata": {},
   "source": [
    "### Acquire"
   ]
  },
  {
   "cell_type": "code",
   "execution_count": 2,
   "id": "c2c60beb",
   "metadata": {},
   "outputs": [],
   "source": [
    "dataset_train = pd.read_csv(\"train.csv\")\n",
    "dataset_test = pd.read_csv(\"test.csv\")"
   ]
  },
  {
   "cell_type": "code",
   "execution_count": 3,
   "id": "e1e05bd1",
   "metadata": {},
   "outputs": [
    {
     "name": "stdout",
     "output_type": "stream",
     "text": [
      "(4209, 378)\n"
     ]
    },
    {
     "data": {
      "text/html": [
       "<div>\n",
       "<style scoped>\n",
       "    .dataframe tbody tr th:only-of-type {\n",
       "        vertical-align: middle;\n",
       "    }\n",
       "\n",
       "    .dataframe tbody tr th {\n",
       "        vertical-align: top;\n",
       "    }\n",
       "\n",
       "    .dataframe thead th {\n",
       "        text-align: right;\n",
       "    }\n",
       "</style>\n",
       "<table border=\"1\" class=\"dataframe\">\n",
       "  <thead>\n",
       "    <tr style=\"text-align: right;\">\n",
       "      <th></th>\n",
       "      <th>ID</th>\n",
       "      <th>y</th>\n",
       "      <th>X0</th>\n",
       "      <th>X1</th>\n",
       "      <th>X2</th>\n",
       "      <th>X3</th>\n",
       "      <th>X4</th>\n",
       "      <th>X5</th>\n",
       "      <th>X6</th>\n",
       "      <th>X8</th>\n",
       "      <th>...</th>\n",
       "      <th>X375</th>\n",
       "      <th>X376</th>\n",
       "      <th>X377</th>\n",
       "      <th>X378</th>\n",
       "      <th>X379</th>\n",
       "      <th>X380</th>\n",
       "      <th>X382</th>\n",
       "      <th>X383</th>\n",
       "      <th>X384</th>\n",
       "      <th>X385</th>\n",
       "    </tr>\n",
       "  </thead>\n",
       "  <tbody>\n",
       "    <tr>\n",
       "      <th>0</th>\n",
       "      <td>0</td>\n",
       "      <td>130.81</td>\n",
       "      <td>k</td>\n",
       "      <td>v</td>\n",
       "      <td>at</td>\n",
       "      <td>a</td>\n",
       "      <td>d</td>\n",
       "      <td>u</td>\n",
       "      <td>j</td>\n",
       "      <td>o</td>\n",
       "      <td>...</td>\n",
       "      <td>0</td>\n",
       "      <td>0</td>\n",
       "      <td>1</td>\n",
       "      <td>0</td>\n",
       "      <td>0</td>\n",
       "      <td>0</td>\n",
       "      <td>0</td>\n",
       "      <td>0</td>\n",
       "      <td>0</td>\n",
       "      <td>0</td>\n",
       "    </tr>\n",
       "    <tr>\n",
       "      <th>1</th>\n",
       "      <td>6</td>\n",
       "      <td>88.53</td>\n",
       "      <td>k</td>\n",
       "      <td>t</td>\n",
       "      <td>av</td>\n",
       "      <td>e</td>\n",
       "      <td>d</td>\n",
       "      <td>y</td>\n",
       "      <td>l</td>\n",
       "      <td>o</td>\n",
       "      <td>...</td>\n",
       "      <td>1</td>\n",
       "      <td>0</td>\n",
       "      <td>0</td>\n",
       "      <td>0</td>\n",
       "      <td>0</td>\n",
       "      <td>0</td>\n",
       "      <td>0</td>\n",
       "      <td>0</td>\n",
       "      <td>0</td>\n",
       "      <td>0</td>\n",
       "    </tr>\n",
       "    <tr>\n",
       "      <th>2</th>\n",
       "      <td>7</td>\n",
       "      <td>76.26</td>\n",
       "      <td>az</td>\n",
       "      <td>w</td>\n",
       "      <td>n</td>\n",
       "      <td>c</td>\n",
       "      <td>d</td>\n",
       "      <td>x</td>\n",
       "      <td>j</td>\n",
       "      <td>x</td>\n",
       "      <td>...</td>\n",
       "      <td>0</td>\n",
       "      <td>0</td>\n",
       "      <td>0</td>\n",
       "      <td>0</td>\n",
       "      <td>0</td>\n",
       "      <td>0</td>\n",
       "      <td>1</td>\n",
       "      <td>0</td>\n",
       "      <td>0</td>\n",
       "      <td>0</td>\n",
       "    </tr>\n",
       "    <tr>\n",
       "      <th>3</th>\n",
       "      <td>9</td>\n",
       "      <td>80.62</td>\n",
       "      <td>az</td>\n",
       "      <td>t</td>\n",
       "      <td>n</td>\n",
       "      <td>f</td>\n",
       "      <td>d</td>\n",
       "      <td>x</td>\n",
       "      <td>l</td>\n",
       "      <td>e</td>\n",
       "      <td>...</td>\n",
       "      <td>0</td>\n",
       "      <td>0</td>\n",
       "      <td>0</td>\n",
       "      <td>0</td>\n",
       "      <td>0</td>\n",
       "      <td>0</td>\n",
       "      <td>0</td>\n",
       "      <td>0</td>\n",
       "      <td>0</td>\n",
       "      <td>0</td>\n",
       "    </tr>\n",
       "    <tr>\n",
       "      <th>4</th>\n",
       "      <td>13</td>\n",
       "      <td>78.02</td>\n",
       "      <td>az</td>\n",
       "      <td>v</td>\n",
       "      <td>n</td>\n",
       "      <td>f</td>\n",
       "      <td>d</td>\n",
       "      <td>h</td>\n",
       "      <td>d</td>\n",
       "      <td>n</td>\n",
       "      <td>...</td>\n",
       "      <td>0</td>\n",
       "      <td>0</td>\n",
       "      <td>0</td>\n",
       "      <td>0</td>\n",
       "      <td>0</td>\n",
       "      <td>0</td>\n",
       "      <td>0</td>\n",
       "      <td>0</td>\n",
       "      <td>0</td>\n",
       "      <td>0</td>\n",
       "    </tr>\n",
       "  </tbody>\n",
       "</table>\n",
       "<p>5 rows × 378 columns</p>\n",
       "</div>"
      ],
      "text/plain": [
       "   ID       y  X0 X1  X2 X3 X4 X5 X6 X8  ...  X375  X376  X377  X378  X379  \\\n",
       "0   0  130.81   k  v  at  a  d  u  j  o  ...     0     0     1     0     0   \n",
       "1   6   88.53   k  t  av  e  d  y  l  o  ...     1     0     0     0     0   \n",
       "2   7   76.26  az  w   n  c  d  x  j  x  ...     0     0     0     0     0   \n",
       "3   9   80.62  az  t   n  f  d  x  l  e  ...     0     0     0     0     0   \n",
       "4  13   78.02  az  v   n  f  d  h  d  n  ...     0     0     0     0     0   \n",
       "\n",
       "   X380  X382  X383  X384  X385  \n",
       "0     0     0     0     0     0  \n",
       "1     0     0     0     0     0  \n",
       "2     0     1     0     0     0  \n",
       "3     0     0     0     0     0  \n",
       "4     0     0     0     0     0  \n",
       "\n",
       "[5 rows x 378 columns]"
      ]
     },
     "execution_count": 3,
     "metadata": {},
     "output_type": "execute_result"
    }
   ],
   "source": [
    "print(dataset_train.shape)\n",
    "dataset_train.head()"
   ]
  },
  {
   "cell_type": "code",
   "execution_count": 4,
   "id": "931dd269",
   "metadata": {},
   "outputs": [
    {
     "name": "stdout",
     "output_type": "stream",
     "text": [
      "(4209, 377)\n"
     ]
    },
    {
     "data": {
      "text/html": [
       "<div>\n",
       "<style scoped>\n",
       "    .dataframe tbody tr th:only-of-type {\n",
       "        vertical-align: middle;\n",
       "    }\n",
       "\n",
       "    .dataframe tbody tr th {\n",
       "        vertical-align: top;\n",
       "    }\n",
       "\n",
       "    .dataframe thead th {\n",
       "        text-align: right;\n",
       "    }\n",
       "</style>\n",
       "<table border=\"1\" class=\"dataframe\">\n",
       "  <thead>\n",
       "    <tr style=\"text-align: right;\">\n",
       "      <th></th>\n",
       "      <th>ID</th>\n",
       "      <th>X0</th>\n",
       "      <th>X1</th>\n",
       "      <th>X2</th>\n",
       "      <th>X3</th>\n",
       "      <th>X4</th>\n",
       "      <th>X5</th>\n",
       "      <th>X6</th>\n",
       "      <th>X8</th>\n",
       "      <th>X10</th>\n",
       "      <th>...</th>\n",
       "      <th>X375</th>\n",
       "      <th>X376</th>\n",
       "      <th>X377</th>\n",
       "      <th>X378</th>\n",
       "      <th>X379</th>\n",
       "      <th>X380</th>\n",
       "      <th>X382</th>\n",
       "      <th>X383</th>\n",
       "      <th>X384</th>\n",
       "      <th>X385</th>\n",
       "    </tr>\n",
       "  </thead>\n",
       "  <tbody>\n",
       "    <tr>\n",
       "      <th>0</th>\n",
       "      <td>1</td>\n",
       "      <td>az</td>\n",
       "      <td>v</td>\n",
       "      <td>n</td>\n",
       "      <td>f</td>\n",
       "      <td>d</td>\n",
       "      <td>t</td>\n",
       "      <td>a</td>\n",
       "      <td>w</td>\n",
       "      <td>0</td>\n",
       "      <td>...</td>\n",
       "      <td>0</td>\n",
       "      <td>0</td>\n",
       "      <td>0</td>\n",
       "      <td>1</td>\n",
       "      <td>0</td>\n",
       "      <td>0</td>\n",
       "      <td>0</td>\n",
       "      <td>0</td>\n",
       "      <td>0</td>\n",
       "      <td>0</td>\n",
       "    </tr>\n",
       "    <tr>\n",
       "      <th>1</th>\n",
       "      <td>2</td>\n",
       "      <td>t</td>\n",
       "      <td>b</td>\n",
       "      <td>ai</td>\n",
       "      <td>a</td>\n",
       "      <td>d</td>\n",
       "      <td>b</td>\n",
       "      <td>g</td>\n",
       "      <td>y</td>\n",
       "      <td>0</td>\n",
       "      <td>...</td>\n",
       "      <td>0</td>\n",
       "      <td>0</td>\n",
       "      <td>1</td>\n",
       "      <td>0</td>\n",
       "      <td>0</td>\n",
       "      <td>0</td>\n",
       "      <td>0</td>\n",
       "      <td>0</td>\n",
       "      <td>0</td>\n",
       "      <td>0</td>\n",
       "    </tr>\n",
       "    <tr>\n",
       "      <th>2</th>\n",
       "      <td>3</td>\n",
       "      <td>az</td>\n",
       "      <td>v</td>\n",
       "      <td>as</td>\n",
       "      <td>f</td>\n",
       "      <td>d</td>\n",
       "      <td>a</td>\n",
       "      <td>j</td>\n",
       "      <td>j</td>\n",
       "      <td>0</td>\n",
       "      <td>...</td>\n",
       "      <td>0</td>\n",
       "      <td>0</td>\n",
       "      <td>0</td>\n",
       "      <td>1</td>\n",
       "      <td>0</td>\n",
       "      <td>0</td>\n",
       "      <td>0</td>\n",
       "      <td>0</td>\n",
       "      <td>0</td>\n",
       "      <td>0</td>\n",
       "    </tr>\n",
       "    <tr>\n",
       "      <th>3</th>\n",
       "      <td>4</td>\n",
       "      <td>az</td>\n",
       "      <td>l</td>\n",
       "      <td>n</td>\n",
       "      <td>f</td>\n",
       "      <td>d</td>\n",
       "      <td>z</td>\n",
       "      <td>l</td>\n",
       "      <td>n</td>\n",
       "      <td>0</td>\n",
       "      <td>...</td>\n",
       "      <td>0</td>\n",
       "      <td>0</td>\n",
       "      <td>0</td>\n",
       "      <td>1</td>\n",
       "      <td>0</td>\n",
       "      <td>0</td>\n",
       "      <td>0</td>\n",
       "      <td>0</td>\n",
       "      <td>0</td>\n",
       "      <td>0</td>\n",
       "    </tr>\n",
       "    <tr>\n",
       "      <th>4</th>\n",
       "      <td>5</td>\n",
       "      <td>w</td>\n",
       "      <td>s</td>\n",
       "      <td>as</td>\n",
       "      <td>c</td>\n",
       "      <td>d</td>\n",
       "      <td>y</td>\n",
       "      <td>i</td>\n",
       "      <td>m</td>\n",
       "      <td>0</td>\n",
       "      <td>...</td>\n",
       "      <td>1</td>\n",
       "      <td>0</td>\n",
       "      <td>0</td>\n",
       "      <td>0</td>\n",
       "      <td>0</td>\n",
       "      <td>0</td>\n",
       "      <td>0</td>\n",
       "      <td>0</td>\n",
       "      <td>0</td>\n",
       "      <td>0</td>\n",
       "    </tr>\n",
       "  </tbody>\n",
       "</table>\n",
       "<p>5 rows × 377 columns</p>\n",
       "</div>"
      ],
      "text/plain": [
       "   ID  X0 X1  X2 X3 X4 X5 X6 X8  X10  ...  X375  X376  X377  X378  X379  X380  \\\n",
       "0   1  az  v   n  f  d  t  a  w    0  ...     0     0     0     1     0     0   \n",
       "1   2   t  b  ai  a  d  b  g  y    0  ...     0     0     1     0     0     0   \n",
       "2   3  az  v  as  f  d  a  j  j    0  ...     0     0     0     1     0     0   \n",
       "3   4  az  l   n  f  d  z  l  n    0  ...     0     0     0     1     0     0   \n",
       "4   5   w  s  as  c  d  y  i  m    0  ...     1     0     0     0     0     0   \n",
       "\n",
       "   X382  X383  X384  X385  \n",
       "0     0     0     0     0  \n",
       "1     0     0     0     0  \n",
       "2     0     0     0     0  \n",
       "3     0     0     0     0  \n",
       "4     0     0     0     0  \n",
       "\n",
       "[5 rows x 377 columns]"
      ]
     },
     "execution_count": 4,
     "metadata": {},
     "output_type": "execute_result"
    }
   ],
   "source": [
    "print(dataset_test.shape)\n",
    "dataset_test.head()"
   ]
  },
  {
   "cell_type": "markdown",
   "id": "a9e06add",
   "metadata": {},
   "source": [
    "### Wrangle"
   ]
  },
  {
   "cell_type": "markdown",
   "id": "4f7be8bd",
   "metadata": {},
   "source": [
    "Let's check if ID column is just a \"primary key\" or has other meaning"
   ]
  },
  {
   "cell_type": "code",
   "execution_count": 5,
   "id": "504fe7fa",
   "metadata": {},
   "outputs": [
    {
     "name": "stdout",
     "output_type": "stream",
     "text": [
      "Are ID columns on dataset_train and dataset_test are unique?\n",
      "True\n",
      "True\n",
      "\n",
      "Are ID columns overlapping? Intersection is empty set()\n"
     ]
    }
   ],
   "source": [
    "print('Are ID columns on dataset_train and dataset_test are unique?')\n",
    "print(  len( dataset_train['ID'].unique() ) == len( dataset_train['ID'] )  )\n",
    "print(  len( dataset_test['ID'].unique() ) == len( dataset_test['ID'] )  )\n",
    "\n",
    "print()\n",
    "print('Are ID columns overlapping? Intersection is empty', set( dataset_train['ID'] ).intersection( set( dataset_test['ID'] ) ) )"
   ]
  },
  {
   "cell_type": "markdown",
   "id": "8efbaf54",
   "metadata": {},
   "source": [
    "Select Features and Target from dataset_train and dataset_test"
   ]
  },
  {
   "cell_type": "code",
   "execution_count": 6,
   "id": "b0c12439",
   "metadata": {},
   "outputs": [],
   "source": [
    "X_train = dataset_train.drop(columns=['ID','y'])\n",
    "y_train = dataset_train[['y']]\n",
    "\n",
    "X_test = dataset_test.drop(columns = ['ID'])"
   ]
  },
  {
   "cell_type": "markdown",
   "id": "1af816b5",
   "metadata": {},
   "source": [
    "8 variables are not numerical:"
   ]
  },
  {
   "cell_type": "code",
   "execution_count": 7,
   "id": "559d8233",
   "metadata": {},
   "outputs": [
    {
     "name": "stdout",
     "output_type": "stream",
     "text": [
      "<class 'pandas.core.frame.DataFrame'>\n",
      "RangeIndex: 4209 entries, 0 to 4208\n",
      "Columns: 376 entries, X0 to X385\n",
      "dtypes: int64(368), object(8)\n",
      "memory usage: 12.1+ MB\n"
     ]
    }
   ],
   "source": [
    "X_train.info()"
   ]
  },
  {
   "cell_type": "markdown",
   "id": "1d7c9ac7",
   "metadata": {},
   "source": [
    "**X11** seems to have just 0 values. Probably the case for other columns."
   ]
  },
  {
   "cell_type": "code",
   "execution_count": 8,
   "id": "f16a9019",
   "metadata": {},
   "outputs": [
    {
     "data": {
      "text/html": [
       "<div>\n",
       "<style scoped>\n",
       "    .dataframe tbody tr th:only-of-type {\n",
       "        vertical-align: middle;\n",
       "    }\n",
       "\n",
       "    .dataframe tbody tr th {\n",
       "        vertical-align: top;\n",
       "    }\n",
       "\n",
       "    .dataframe thead th {\n",
       "        text-align: right;\n",
       "    }\n",
       "</style>\n",
       "<table border=\"1\" class=\"dataframe\">\n",
       "  <thead>\n",
       "    <tr style=\"text-align: right;\">\n",
       "      <th></th>\n",
       "      <th>X10</th>\n",
       "      <th>X11</th>\n",
       "      <th>X12</th>\n",
       "      <th>X13</th>\n",
       "      <th>X14</th>\n",
       "      <th>X15</th>\n",
       "      <th>X16</th>\n",
       "      <th>X17</th>\n",
       "      <th>X18</th>\n",
       "      <th>X19</th>\n",
       "      <th>...</th>\n",
       "      <th>X375</th>\n",
       "      <th>X376</th>\n",
       "      <th>X377</th>\n",
       "      <th>X378</th>\n",
       "      <th>X379</th>\n",
       "      <th>X380</th>\n",
       "      <th>X382</th>\n",
       "      <th>X383</th>\n",
       "      <th>X384</th>\n",
       "      <th>X385</th>\n",
       "    </tr>\n",
       "  </thead>\n",
       "  <tbody>\n",
       "    <tr>\n",
       "      <th>count</th>\n",
       "      <td>4209.000000</td>\n",
       "      <td>4209.0</td>\n",
       "      <td>4209.000000</td>\n",
       "      <td>4209.000000</td>\n",
       "      <td>4209.000000</td>\n",
       "      <td>4209.000000</td>\n",
       "      <td>4209.000000</td>\n",
       "      <td>4209.000000</td>\n",
       "      <td>4209.000000</td>\n",
       "      <td>4209.000000</td>\n",
       "      <td>...</td>\n",
       "      <td>4209.000000</td>\n",
       "      <td>4209.000000</td>\n",
       "      <td>4209.000000</td>\n",
       "      <td>4209.000000</td>\n",
       "      <td>4209.000000</td>\n",
       "      <td>4209.000000</td>\n",
       "      <td>4209.000000</td>\n",
       "      <td>4209.000000</td>\n",
       "      <td>4209.000000</td>\n",
       "      <td>4209.000000</td>\n",
       "    </tr>\n",
       "    <tr>\n",
       "      <th>mean</th>\n",
       "      <td>0.013305</td>\n",
       "      <td>0.0</td>\n",
       "      <td>0.075077</td>\n",
       "      <td>0.057971</td>\n",
       "      <td>0.428130</td>\n",
       "      <td>0.000475</td>\n",
       "      <td>0.002613</td>\n",
       "      <td>0.007603</td>\n",
       "      <td>0.007840</td>\n",
       "      <td>0.099549</td>\n",
       "      <td>...</td>\n",
       "      <td>0.318841</td>\n",
       "      <td>0.057258</td>\n",
       "      <td>0.314802</td>\n",
       "      <td>0.020670</td>\n",
       "      <td>0.009503</td>\n",
       "      <td>0.008078</td>\n",
       "      <td>0.007603</td>\n",
       "      <td>0.001663</td>\n",
       "      <td>0.000475</td>\n",
       "      <td>0.001426</td>\n",
       "    </tr>\n",
       "    <tr>\n",
       "      <th>std</th>\n",
       "      <td>0.114590</td>\n",
       "      <td>0.0</td>\n",
       "      <td>0.263547</td>\n",
       "      <td>0.233716</td>\n",
       "      <td>0.494867</td>\n",
       "      <td>0.021796</td>\n",
       "      <td>0.051061</td>\n",
       "      <td>0.086872</td>\n",
       "      <td>0.088208</td>\n",
       "      <td>0.299433</td>\n",
       "      <td>...</td>\n",
       "      <td>0.466082</td>\n",
       "      <td>0.232363</td>\n",
       "      <td>0.464492</td>\n",
       "      <td>0.142294</td>\n",
       "      <td>0.097033</td>\n",
       "      <td>0.089524</td>\n",
       "      <td>0.086872</td>\n",
       "      <td>0.040752</td>\n",
       "      <td>0.021796</td>\n",
       "      <td>0.037734</td>\n",
       "    </tr>\n",
       "    <tr>\n",
       "      <th>min</th>\n",
       "      <td>0.000000</td>\n",
       "      <td>0.0</td>\n",
       "      <td>0.000000</td>\n",
       "      <td>0.000000</td>\n",
       "      <td>0.000000</td>\n",
       "      <td>0.000000</td>\n",
       "      <td>0.000000</td>\n",
       "      <td>0.000000</td>\n",
       "      <td>0.000000</td>\n",
       "      <td>0.000000</td>\n",
       "      <td>...</td>\n",
       "      <td>0.000000</td>\n",
       "      <td>0.000000</td>\n",
       "      <td>0.000000</td>\n",
       "      <td>0.000000</td>\n",
       "      <td>0.000000</td>\n",
       "      <td>0.000000</td>\n",
       "      <td>0.000000</td>\n",
       "      <td>0.000000</td>\n",
       "      <td>0.000000</td>\n",
       "      <td>0.000000</td>\n",
       "    </tr>\n",
       "    <tr>\n",
       "      <th>25%</th>\n",
       "      <td>0.000000</td>\n",
       "      <td>0.0</td>\n",
       "      <td>0.000000</td>\n",
       "      <td>0.000000</td>\n",
       "      <td>0.000000</td>\n",
       "      <td>0.000000</td>\n",
       "      <td>0.000000</td>\n",
       "      <td>0.000000</td>\n",
       "      <td>0.000000</td>\n",
       "      <td>0.000000</td>\n",
       "      <td>...</td>\n",
       "      <td>0.000000</td>\n",
       "      <td>0.000000</td>\n",
       "      <td>0.000000</td>\n",
       "      <td>0.000000</td>\n",
       "      <td>0.000000</td>\n",
       "      <td>0.000000</td>\n",
       "      <td>0.000000</td>\n",
       "      <td>0.000000</td>\n",
       "      <td>0.000000</td>\n",
       "      <td>0.000000</td>\n",
       "    </tr>\n",
       "    <tr>\n",
       "      <th>50%</th>\n",
       "      <td>0.000000</td>\n",
       "      <td>0.0</td>\n",
       "      <td>0.000000</td>\n",
       "      <td>0.000000</td>\n",
       "      <td>0.000000</td>\n",
       "      <td>0.000000</td>\n",
       "      <td>0.000000</td>\n",
       "      <td>0.000000</td>\n",
       "      <td>0.000000</td>\n",
       "      <td>0.000000</td>\n",
       "      <td>...</td>\n",
       "      <td>0.000000</td>\n",
       "      <td>0.000000</td>\n",
       "      <td>0.000000</td>\n",
       "      <td>0.000000</td>\n",
       "      <td>0.000000</td>\n",
       "      <td>0.000000</td>\n",
       "      <td>0.000000</td>\n",
       "      <td>0.000000</td>\n",
       "      <td>0.000000</td>\n",
       "      <td>0.000000</td>\n",
       "    </tr>\n",
       "    <tr>\n",
       "      <th>75%</th>\n",
       "      <td>0.000000</td>\n",
       "      <td>0.0</td>\n",
       "      <td>0.000000</td>\n",
       "      <td>0.000000</td>\n",
       "      <td>1.000000</td>\n",
       "      <td>0.000000</td>\n",
       "      <td>0.000000</td>\n",
       "      <td>0.000000</td>\n",
       "      <td>0.000000</td>\n",
       "      <td>0.000000</td>\n",
       "      <td>...</td>\n",
       "      <td>1.000000</td>\n",
       "      <td>0.000000</td>\n",
       "      <td>1.000000</td>\n",
       "      <td>0.000000</td>\n",
       "      <td>0.000000</td>\n",
       "      <td>0.000000</td>\n",
       "      <td>0.000000</td>\n",
       "      <td>0.000000</td>\n",
       "      <td>0.000000</td>\n",
       "      <td>0.000000</td>\n",
       "    </tr>\n",
       "    <tr>\n",
       "      <th>max</th>\n",
       "      <td>1.000000</td>\n",
       "      <td>0.0</td>\n",
       "      <td>1.000000</td>\n",
       "      <td>1.000000</td>\n",
       "      <td>1.000000</td>\n",
       "      <td>1.000000</td>\n",
       "      <td>1.000000</td>\n",
       "      <td>1.000000</td>\n",
       "      <td>1.000000</td>\n",
       "      <td>1.000000</td>\n",
       "      <td>...</td>\n",
       "      <td>1.000000</td>\n",
       "      <td>1.000000</td>\n",
       "      <td>1.000000</td>\n",
       "      <td>1.000000</td>\n",
       "      <td>1.000000</td>\n",
       "      <td>1.000000</td>\n",
       "      <td>1.000000</td>\n",
       "      <td>1.000000</td>\n",
       "      <td>1.000000</td>\n",
       "      <td>1.000000</td>\n",
       "    </tr>\n",
       "  </tbody>\n",
       "</table>\n",
       "<p>8 rows × 368 columns</p>\n",
       "</div>"
      ],
      "text/plain": [
       "               X10     X11          X12          X13          X14  \\\n",
       "count  4209.000000  4209.0  4209.000000  4209.000000  4209.000000   \n",
       "mean      0.013305     0.0     0.075077     0.057971     0.428130   \n",
       "std       0.114590     0.0     0.263547     0.233716     0.494867   \n",
       "min       0.000000     0.0     0.000000     0.000000     0.000000   \n",
       "25%       0.000000     0.0     0.000000     0.000000     0.000000   \n",
       "50%       0.000000     0.0     0.000000     0.000000     0.000000   \n",
       "75%       0.000000     0.0     0.000000     0.000000     1.000000   \n",
       "max       1.000000     0.0     1.000000     1.000000     1.000000   \n",
       "\n",
       "               X15          X16          X17          X18          X19  ...  \\\n",
       "count  4209.000000  4209.000000  4209.000000  4209.000000  4209.000000  ...   \n",
       "mean      0.000475     0.002613     0.007603     0.007840     0.099549  ...   \n",
       "std       0.021796     0.051061     0.086872     0.088208     0.299433  ...   \n",
       "min       0.000000     0.000000     0.000000     0.000000     0.000000  ...   \n",
       "25%       0.000000     0.000000     0.000000     0.000000     0.000000  ...   \n",
       "50%       0.000000     0.000000     0.000000     0.000000     0.000000  ...   \n",
       "75%       0.000000     0.000000     0.000000     0.000000     0.000000  ...   \n",
       "max       1.000000     1.000000     1.000000     1.000000     1.000000  ...   \n",
       "\n",
       "              X375         X376         X377         X378         X379  \\\n",
       "count  4209.000000  4209.000000  4209.000000  4209.000000  4209.000000   \n",
       "mean      0.318841     0.057258     0.314802     0.020670     0.009503   \n",
       "std       0.466082     0.232363     0.464492     0.142294     0.097033   \n",
       "min       0.000000     0.000000     0.000000     0.000000     0.000000   \n",
       "25%       0.000000     0.000000     0.000000     0.000000     0.000000   \n",
       "50%       0.000000     0.000000     0.000000     0.000000     0.000000   \n",
       "75%       1.000000     0.000000     1.000000     0.000000     0.000000   \n",
       "max       1.000000     1.000000     1.000000     1.000000     1.000000   \n",
       "\n",
       "              X380         X382         X383         X384         X385  \n",
       "count  4209.000000  4209.000000  4209.000000  4209.000000  4209.000000  \n",
       "mean      0.008078     0.007603     0.001663     0.000475     0.001426  \n",
       "std       0.089524     0.086872     0.040752     0.021796     0.037734  \n",
       "min       0.000000     0.000000     0.000000     0.000000     0.000000  \n",
       "25%       0.000000     0.000000     0.000000     0.000000     0.000000  \n",
       "50%       0.000000     0.000000     0.000000     0.000000     0.000000  \n",
       "75%       0.000000     0.000000     0.000000     0.000000     0.000000  \n",
       "max       1.000000     1.000000     1.000000     1.000000     1.000000  \n",
       "\n",
       "[8 rows x 368 columns]"
      ]
     },
     "execution_count": 8,
     "metadata": {},
     "output_type": "execute_result"
    }
   ],
   "source": [
    "X_train.describe()"
   ]
  },
  {
   "cell_type": "markdown",
   "id": "eacc5674",
   "metadata": {},
   "source": [
    "## 1) Remove variable with zeros variance"
   ]
  },
  {
   "cell_type": "markdown",
   "id": "d9154347",
   "metadata": {},
   "source": [
    "The statement is ambigus here so I will choose the safest way and remove columns with null variance on the full data set meaning on the concatenation of data_train and data_test"
   ]
  },
  {
   "cell_type": "markdown",
   "id": "8fd20e68",
   "metadata": {},
   "source": [
    "Let's concatenate data_train and data_test:"
   ]
  },
  {
   "cell_type": "code",
   "execution_count": 9,
   "id": "a7693023",
   "metadata": {},
   "outputs": [
    {
     "data": {
      "text/plain": [
       "(8418, 376)"
      ]
     },
     "execution_count": 9,
     "metadata": {},
     "output_type": "execute_result"
    }
   ],
   "source": [
    "X_fulldata = pd.concat([X_train, X_test], ignore_index=True)\n",
    "X_fulldata.shape"
   ]
  },
  {
   "cell_type": "code",
   "execution_count": 10,
   "id": "ec8f5885",
   "metadata": {},
   "outputs": [
    {
     "name": "stdout",
     "output_type": "stream",
     "text": [
      "(8418, 368) (4209, 368) (4209, 368)\n"
     ]
    }
   ],
   "source": [
    "# Select just numerical values\n",
    "X_fulldata_num = X_fulldata.select_dtypes(exclude = 'object')\n",
    "X_train_num = X_train.select_dtypes(exclude = 'object')\n",
    "X_test_num = X_test.select_dtypes(exclude = 'object')\n",
    "\n",
    "print(X_fulldata_num.shape, X_train_num.shape, X_test_num.shape)"
   ]
  },
  {
   "cell_type": "code",
   "execution_count": 11,
   "id": "c7565e70",
   "metadata": {},
   "outputs": [
    {
     "name": "stdout",
     "output_type": "stream",
     "text": [
      "Index([], dtype='object')\n",
      "Index(['X11', 'X93', 'X107', 'X233', 'X235', 'X268', 'X289', 'X290', 'X293',\n",
      "       'X297', 'X330', 'X347'],\n",
      "      dtype='object')\n",
      "Index(['X257', 'X258', 'X295', 'X296', 'X369'], dtype='object')\n",
      "\n",
      "Common columns with null variance in both dataset: none  set()\n"
     ]
    }
   ],
   "source": [
    "std_zero1 = X_fulldata_num.describe().iloc[2] == 0\n",
    "print( X_fulldata_num.columns[std_zero1] )\n",
    "\n",
    "std_zero2 = X_train_num.describe().iloc[2] == 0\n",
    "print( X_train_num.columns[std_zero2] )\n",
    "\n",
    "std_zero3 = X_test_num.describe().iloc[2] == 0\n",
    "print( X_test_num.columns[std_zero3] )\n",
    "print()\n",
    "print( 'Common columns with null variance in both dataset: none ', set(X_train_num.columns[std_zero2]).intersection( set(X_test_num.columns[std_zero3]) ) )"
   ]
  },
  {
   "cell_type": "markdown",
   "id": "34dfa95c",
   "metadata": {},
   "source": [
    "Surprisingly there aren't columns with null variance in both datasets so for simplicity I will assume we will remove the ones in Dataset_train only but if possible it would be nice to have a discussion with the suitable Enginering departement because we cannot create an automatic pipeline if we get train and test dataset with different null variance columns (better to manipulate the full data)"
   ]
  },
  {
   "cell_type": "code",
   "execution_count": 12,
   "id": "d8bc7a42",
   "metadata": {},
   "outputs": [],
   "source": [
    "std_zero2 = X_train_num.describe().iloc[2] != 0\n",
    "# X_train numerical with no variance null (nv0)\n",
    "X_train_num_nv0 = X_train_num[X_train_num.columns[std_zero2] ]\n",
    "X_train_num_nv0.shape\n",
    "\n",
    "# BE CAREFUL, I remove columns with zero variance in X_train\n",
    "X_test_num_nv0 = X_test_num[X_train_num.columns[std_zero2] ]\n"
   ]
  },
  {
   "cell_type": "markdown",
   "id": "c966dd96",
   "metadata": {},
   "source": [
    "## 2) Check for null and unique values for test and train sets"
   ]
  },
  {
   "cell_type": "markdown",
   "id": "58352239",
   "metadata": {},
   "source": [
    "### Numerical values"
   ]
  },
  {
   "cell_type": "code",
   "execution_count": 13,
   "id": "f421a0ca",
   "metadata": {},
   "outputs": [
    {
     "name": "stdout",
     "output_type": "stream",
     "text": [
      "False\n",
      "False\n"
     ]
    }
   ],
   "source": [
    "print( X_train_num_nv0.isnull().any().any() )\n",
    "print( X_test_num_nv0.isnull().any().any() )"
   ]
  },
  {
   "cell_type": "markdown",
   "id": "5378fca6",
   "metadata": {},
   "source": [
    "No missing values for numerical columns"
   ]
  },
  {
   "cell_type": "code",
   "execution_count": 14,
   "id": "eb158b71",
   "metadata": {},
   "outputs": [
    {
     "data": {
      "text/html": [
       "<div>\n",
       "<style scoped>\n",
       "    .dataframe tbody tr th:only-of-type {\n",
       "        vertical-align: middle;\n",
       "    }\n",
       "\n",
       "    .dataframe tbody tr th {\n",
       "        vertical-align: top;\n",
       "    }\n",
       "\n",
       "    .dataframe thead th {\n",
       "        text-align: right;\n",
       "    }\n",
       "</style>\n",
       "<table border=\"1\" class=\"dataframe\">\n",
       "  <thead>\n",
       "    <tr style=\"text-align: right;\">\n",
       "      <th></th>\n",
       "      <th>X10</th>\n",
       "      <th>X12</th>\n",
       "      <th>X13</th>\n",
       "      <th>X14</th>\n",
       "      <th>X15</th>\n",
       "      <th>X16</th>\n",
       "      <th>X17</th>\n",
       "      <th>X18</th>\n",
       "      <th>X19</th>\n",
       "      <th>X20</th>\n",
       "      <th>...</th>\n",
       "      <th>X375</th>\n",
       "      <th>X376</th>\n",
       "      <th>X377</th>\n",
       "      <th>X378</th>\n",
       "      <th>X379</th>\n",
       "      <th>X380</th>\n",
       "      <th>X382</th>\n",
       "      <th>X383</th>\n",
       "      <th>X384</th>\n",
       "      <th>X385</th>\n",
       "    </tr>\n",
       "  </thead>\n",
       "  <tbody>\n",
       "    <tr>\n",
       "      <th>0</th>\n",
       "      <td>0</td>\n",
       "      <td>0</td>\n",
       "      <td>1</td>\n",
       "      <td>0</td>\n",
       "      <td>0</td>\n",
       "      <td>0</td>\n",
       "      <td>0</td>\n",
       "      <td>1</td>\n",
       "      <td>0</td>\n",
       "      <td>0</td>\n",
       "      <td>...</td>\n",
       "      <td>0</td>\n",
       "      <td>0</td>\n",
       "      <td>1</td>\n",
       "      <td>0</td>\n",
       "      <td>0</td>\n",
       "      <td>0</td>\n",
       "      <td>0</td>\n",
       "      <td>0</td>\n",
       "      <td>0</td>\n",
       "      <td>0</td>\n",
       "    </tr>\n",
       "    <tr>\n",
       "      <th>1</th>\n",
       "      <td>1</td>\n",
       "      <td>1</td>\n",
       "      <td>0</td>\n",
       "      <td>1</td>\n",
       "      <td>1</td>\n",
       "      <td>1</td>\n",
       "      <td>1</td>\n",
       "      <td>0</td>\n",
       "      <td>1</td>\n",
       "      <td>1</td>\n",
       "      <td>...</td>\n",
       "      <td>1</td>\n",
       "      <td>1</td>\n",
       "      <td>0</td>\n",
       "      <td>1</td>\n",
       "      <td>1</td>\n",
       "      <td>1</td>\n",
       "      <td>1</td>\n",
       "      <td>1</td>\n",
       "      <td>1</td>\n",
       "      <td>1</td>\n",
       "    </tr>\n",
       "  </tbody>\n",
       "</table>\n",
       "<p>2 rows × 356 columns</p>\n",
       "</div>"
      ],
      "text/plain": [
       "   X10  X12  X13  X14  X15  X16  X17  X18  X19  X20  ...  X375  X376  X377  \\\n",
       "0    0    0    1    0    0    0    0    1    0    0  ...     0     0     1   \n",
       "1    1    1    0    1    1    1    1    0    1    1  ...     1     1     0   \n",
       "\n",
       "   X378  X379  X380  X382  X383  X384  X385  \n",
       "0     0     0     0     0     0     0     0  \n",
       "1     1     1     1     1     1     1     1  \n",
       "\n",
       "[2 rows x 356 columns]"
      ]
     },
     "execution_count": 14,
     "metadata": {},
     "output_type": "execute_result"
    }
   ],
   "source": [
    "X_train_num_nv0.apply( lambda col: col.unique() )"
   ]
  },
  {
   "cell_type": "markdown",
   "id": "87588bc0",
   "metadata": {},
   "source": [
    "Just two values: 0 and 1"
   ]
  },
  {
   "cell_type": "code",
   "execution_count": 15,
   "id": "4f627211",
   "metadata": {},
   "outputs": [
    {
     "name": "stdout",
     "output_type": "stream",
     "text": [
      "Columns with just 0 value:\n"
     ]
    },
    {
     "data": {
      "text/plain": [
       "X257    [0]\n",
       "X258    [0]\n",
       "X295    [0]\n",
       "X296    [0]\n",
       "X369    [0]\n",
       "dtype: object"
      ]
     },
     "execution_count": 15,
     "metadata": {},
     "output_type": "execute_result"
    }
   ],
   "source": [
    "# Same for X_test_num_nv0\n",
    "# It is a serie because I remove zero variance column from X_train_num so there some columns with just 0 value as we see before\n",
    "a = X_test_num_nv0.apply( lambda col: col.unique() )\n",
    "b = a.apply( lambda size: len(size) )\n",
    "print('Columns with just 0 value:')\n",
    "a[b<2]"
   ]
  },
  {
   "cell_type": "markdown",
   "id": "90d7bef4",
   "metadata": {},
   "source": [
    "### Categorical values"
   ]
  },
  {
   "cell_type": "code",
   "execution_count": 16,
   "id": "e8baa2bb",
   "metadata": {},
   "outputs": [
    {
     "name": "stdout",
     "output_type": "stream",
     "text": [
      "col 0 :  ['k' 'az' 't' 'al' 'o' 'w' 'j' 'h' 's' 'n' 'ay' 'f' 'x' 'y' 'aj' 'ak' 'am'\n",
      " 'z' 'q' 'at' 'ap' 'v' 'af' 'a' 'e' 'ai' 'd' 'aq' 'c' 'aa' 'ba' 'as' 'i'\n",
      " 'r' 'b' 'ax' 'bc' 'u' 'ad' 'au' 'm' 'l' 'aw' 'ao' 'ac' 'g' 'ab']\n",
      "col 1 :  ['v' 't' 'w' 'b' 'r' 'l' 's' 'aa' 'c' 'a' 'e' 'h' 'z' 'j' 'o' 'u' 'p' 'n'\n",
      " 'i' 'y' 'd' 'f' 'm' 'k' 'g' 'q' 'ab']\n",
      "col 2 :  ['at' 'av' 'n' 'e' 'as' 'aq' 'r' 'ai' 'ak' 'm' 'a' 'k' 'ae' 's' 'f' 'd'\n",
      " 'ag' 'ay' 'ac' 'ap' 'g' 'i' 'aw' 'y' 'b' 'ao' 'al' 'h' 'x' 'au' 't' 'an'\n",
      " 'z' 'ah' 'p' 'am' 'j' 'q' 'af' 'l' 'aa' 'c' 'o' 'ar']\n",
      "col 3 :  ['a' 'e' 'c' 'f' 'd' 'b' 'g']\n",
      "col 4 :  ['d' 'b' 'c' 'a']\n",
      "col 5 :  ['u' 'y' 'x' 'h' 'g' 'f' 'j' 'i' 'd' 'c' 'af' 'ag' 'ab' 'ac' 'ad' 'ae'\n",
      " 'ah' 'l' 'k' 'n' 'm' 'p' 'q' 's' 'r' 'v' 'w' 'o' 'aa']\n",
      "col 6 :  ['j' 'l' 'd' 'h' 'i' 'a' 'g' 'c' 'k' 'e' 'f' 'b']\n",
      "col 7 :  ['o' 'x' 'e' 'n' 's' 'a' 'h' 'p' 'm' 'k' 'd' 'i' 'v' 'j' 'b' 'q' 'w' 'g'\n",
      " 'y' 'l' 'f' 'u' 'r' 't' 'c']\n",
      "col 0 :  ['az' 't' 'w' 'y' 'x' 'f' 'ap' 'o' 'ay' 'al' 'h' 'z' 'aj' 'd' 'v' 'ak'\n",
      " 'ba' 'n' 'j' 's' 'af' 'ax' 'at' 'aq' 'av' 'm' 'k' 'a' 'e' 'ai' 'i' 'ag'\n",
      " 'b' 'am' 'aw' 'as' 'r' 'ao' 'u' 'l' 'c' 'ad' 'au' 'bc' 'g' 'an' 'ae' 'p'\n",
      " 'bb']\n",
      "col 1 :  ['v' 'b' 'l' 's' 'aa' 'r' 'a' 'i' 'p' 'c' 'o' 'm' 'z' 'e' 'h' 'w' 'g' 'k'\n",
      " 'y' 't' 'u' 'd' 'j' 'q' 'n' 'f' 'ab']\n",
      "col 2 :  ['n' 'ai' 'as' 'ae' 's' 'b' 'e' 'ak' 'm' 'a' 'aq' 'ag' 'r' 'k' 'aj' 'ay'\n",
      " 'ao' 'an' 'ac' 'af' 'ax' 'h' 'i' 'f' 'ap' 'p' 'au' 't' 'z' 'y' 'aw' 'd'\n",
      " 'at' 'g' 'am' 'j' 'x' 'ab' 'w' 'q' 'ah' 'ad' 'al' 'av' 'u']\n",
      "col 3 :  ['f' 'a' 'c' 'e' 'd' 'g' 'b']\n",
      "col 4 :  ['d' 'b' 'a' 'c']\n",
      "col 5 :  ['t' 'b' 'a' 'z' 'y' 'x' 'h' 'g' 'f' 'j' 'i' 'd' 'c' 'af' 'ag' 'ab' 'ac'\n",
      " 'ad' 'ae' 'ah' 'l' 'k' 'n' 'm' 'p' 'q' 's' 'r' 'v' 'w' 'o' 'aa']\n",
      "col 6 :  ['a' 'g' 'j' 'l' 'i' 'd' 'f' 'h' 'c' 'k' 'e' 'b']\n",
      "col 7 :  ['w' 'y' 'j' 'n' 'm' 's' 'a' 'v' 'r' 'o' 't' 'h' 'c' 'k' 'p' 'u' 'd' 'g'\n",
      " 'b' 'q' 'e' 'l' 'f' 'i' 'x']\n"
     ]
    }
   ],
   "source": [
    "X_train_cat = X_train.select_dtypes(include = 'object')\n",
    "a = X_train_cat.apply(lambda col: col.unique())\n",
    "for i, j in enumerate(a):\n",
    "    print('col', i, ': ', j)\n",
    "    \n",
    "X_test_cat = X_test.select_dtypes(include = 'object')\n",
    "a = X_test_cat.apply(lambda col: col.unique())\n",
    "for i, j in enumerate(a):\n",
    "    print('col', i, ': ', j)    "
   ]
  },
  {
   "cell_type": "markdown",
   "id": "01c12649",
   "metadata": {},
   "source": [
    "No suspicion of NaN values"
   ]
  },
  {
   "cell_type": "markdown",
   "id": "bb201d2c",
   "metadata": {},
   "source": [
    "## 3) Apply label encoder."
   ]
  },
  {
   "cell_type": "markdown",
   "id": "0ee403e7",
   "metadata": {},
   "source": [
    "Probably the number of values push to consider LabelEncoder rather than an OneHotEncoder however the order of LabelEncoder could induce some wrong correlations between observations by ordering these values (OneHotEncoder could be tested for further investigation)."
   ]
  },
  {
   "cell_type": "code",
   "execution_count": 17,
   "id": "04aec926",
   "metadata": {},
   "outputs": [
    {
     "name": "stdout",
     "output_type": "stream",
     "text": [
      "      X0  X1  X2  X3  X4  X5  X6  X8\n",
      "0     32  23  17   0   3  24   9  14\n",
      "1     32  21  19   4   3  28  11  14\n",
      "2     20  24  34   2   3  27   9  23\n",
      "3     20  21  34   5   3  27  11   4\n",
      "4     20  23  34   5   3  12   3  13\n",
      "...   ..  ..  ..  ..  ..  ..  ..  ..\n",
      "4204   8  20  16   2   3   0   3  16\n",
      "4205  31  16  40   3   3   0   7   7\n",
      "4206   8  23  38   0   3   0   6   4\n",
      "4207   9  19  25   5   3   0  11  20\n",
      "4208  46  19   3   2   3   0   6  22\n",
      "\n",
      "[4209 rows x 8 columns]\n"
     ]
    }
   ],
   "source": [
    "# Train set\n",
    "le = LabelEncoder()\n",
    "X_train_cat_trans = X_train_cat.apply(le.fit_transform)\n",
    "print( X_train_cat_trans )\n",
    "# OneHotEncoder().fit_transform(X_train_cat)\n",
    "\n",
    "# Test set\n",
    "X_test_cat_trans = X_test_cat.apply(le.fit_transform)"
   ]
  },
  {
   "cell_type": "code",
   "execution_count": 18,
   "id": "36fb8ae0",
   "metadata": {},
   "outputs": [
    {
     "name": "stdout",
     "output_type": "stream",
     "text": [
      "(4209, 364) (4209, 364)\n"
     ]
    },
    {
     "data": {
      "text/html": [
       "<div>\n",
       "<style scoped>\n",
       "    .dataframe tbody tr th:only-of-type {\n",
       "        vertical-align: middle;\n",
       "    }\n",
       "\n",
       "    .dataframe tbody tr th {\n",
       "        vertical-align: top;\n",
       "    }\n",
       "\n",
       "    .dataframe thead th {\n",
       "        text-align: right;\n",
       "    }\n",
       "</style>\n",
       "<table border=\"1\" class=\"dataframe\">\n",
       "  <thead>\n",
       "    <tr style=\"text-align: right;\">\n",
       "      <th></th>\n",
       "      <th>X10</th>\n",
       "      <th>X12</th>\n",
       "      <th>X13</th>\n",
       "      <th>X14</th>\n",
       "      <th>X15</th>\n",
       "      <th>X16</th>\n",
       "      <th>X17</th>\n",
       "      <th>X18</th>\n",
       "      <th>X19</th>\n",
       "      <th>X20</th>\n",
       "      <th>...</th>\n",
       "      <th>X384</th>\n",
       "      <th>X385</th>\n",
       "      <th>X0</th>\n",
       "      <th>X1</th>\n",
       "      <th>X2</th>\n",
       "      <th>X3</th>\n",
       "      <th>X4</th>\n",
       "      <th>X5</th>\n",
       "      <th>X6</th>\n",
       "      <th>X8</th>\n",
       "    </tr>\n",
       "  </thead>\n",
       "  <tbody>\n",
       "    <tr>\n",
       "      <th>0</th>\n",
       "      <td>0</td>\n",
       "      <td>0</td>\n",
       "      <td>1</td>\n",
       "      <td>0</td>\n",
       "      <td>0</td>\n",
       "      <td>0</td>\n",
       "      <td>0</td>\n",
       "      <td>1</td>\n",
       "      <td>0</td>\n",
       "      <td>0</td>\n",
       "      <td>...</td>\n",
       "      <td>0</td>\n",
       "      <td>0</td>\n",
       "      <td>32</td>\n",
       "      <td>23</td>\n",
       "      <td>17</td>\n",
       "      <td>0</td>\n",
       "      <td>3</td>\n",
       "      <td>24</td>\n",
       "      <td>9</td>\n",
       "      <td>14</td>\n",
       "    </tr>\n",
       "    <tr>\n",
       "      <th>1</th>\n",
       "      <td>0</td>\n",
       "      <td>0</td>\n",
       "      <td>0</td>\n",
       "      <td>0</td>\n",
       "      <td>0</td>\n",
       "      <td>0</td>\n",
       "      <td>0</td>\n",
       "      <td>1</td>\n",
       "      <td>0</td>\n",
       "      <td>0</td>\n",
       "      <td>...</td>\n",
       "      <td>0</td>\n",
       "      <td>0</td>\n",
       "      <td>32</td>\n",
       "      <td>21</td>\n",
       "      <td>19</td>\n",
       "      <td>4</td>\n",
       "      <td>3</td>\n",
       "      <td>28</td>\n",
       "      <td>11</td>\n",
       "      <td>14</td>\n",
       "    </tr>\n",
       "    <tr>\n",
       "      <th>2</th>\n",
       "      <td>0</td>\n",
       "      <td>0</td>\n",
       "      <td>0</td>\n",
       "      <td>0</td>\n",
       "      <td>0</td>\n",
       "      <td>0</td>\n",
       "      <td>1</td>\n",
       "      <td>0</td>\n",
       "      <td>0</td>\n",
       "      <td>0</td>\n",
       "      <td>...</td>\n",
       "      <td>0</td>\n",
       "      <td>0</td>\n",
       "      <td>20</td>\n",
       "      <td>24</td>\n",
       "      <td>34</td>\n",
       "      <td>2</td>\n",
       "      <td>3</td>\n",
       "      <td>27</td>\n",
       "      <td>9</td>\n",
       "      <td>23</td>\n",
       "    </tr>\n",
       "    <tr>\n",
       "      <th>3</th>\n",
       "      <td>0</td>\n",
       "      <td>0</td>\n",
       "      <td>0</td>\n",
       "      <td>0</td>\n",
       "      <td>0</td>\n",
       "      <td>0</td>\n",
       "      <td>0</td>\n",
       "      <td>0</td>\n",
       "      <td>0</td>\n",
       "      <td>0</td>\n",
       "      <td>...</td>\n",
       "      <td>0</td>\n",
       "      <td>0</td>\n",
       "      <td>20</td>\n",
       "      <td>21</td>\n",
       "      <td>34</td>\n",
       "      <td>5</td>\n",
       "      <td>3</td>\n",
       "      <td>27</td>\n",
       "      <td>11</td>\n",
       "      <td>4</td>\n",
       "    </tr>\n",
       "    <tr>\n",
       "      <th>4</th>\n",
       "      <td>0</td>\n",
       "      <td>0</td>\n",
       "      <td>0</td>\n",
       "      <td>0</td>\n",
       "      <td>0</td>\n",
       "      <td>0</td>\n",
       "      <td>0</td>\n",
       "      <td>0</td>\n",
       "      <td>0</td>\n",
       "      <td>0</td>\n",
       "      <td>...</td>\n",
       "      <td>0</td>\n",
       "      <td>0</td>\n",
       "      <td>20</td>\n",
       "      <td>23</td>\n",
       "      <td>34</td>\n",
       "      <td>5</td>\n",
       "      <td>3</td>\n",
       "      <td>12</td>\n",
       "      <td>3</td>\n",
       "      <td>13</td>\n",
       "    </tr>\n",
       "    <tr>\n",
       "      <th>...</th>\n",
       "      <td>...</td>\n",
       "      <td>...</td>\n",
       "      <td>...</td>\n",
       "      <td>...</td>\n",
       "      <td>...</td>\n",
       "      <td>...</td>\n",
       "      <td>...</td>\n",
       "      <td>...</td>\n",
       "      <td>...</td>\n",
       "      <td>...</td>\n",
       "      <td>...</td>\n",
       "      <td>...</td>\n",
       "      <td>...</td>\n",
       "      <td>...</td>\n",
       "      <td>...</td>\n",
       "      <td>...</td>\n",
       "      <td>...</td>\n",
       "      <td>...</td>\n",
       "      <td>...</td>\n",
       "      <td>...</td>\n",
       "      <td>...</td>\n",
       "    </tr>\n",
       "    <tr>\n",
       "      <th>4204</th>\n",
       "      <td>0</td>\n",
       "      <td>0</td>\n",
       "      <td>0</td>\n",
       "      <td>1</td>\n",
       "      <td>0</td>\n",
       "      <td>0</td>\n",
       "      <td>0</td>\n",
       "      <td>0</td>\n",
       "      <td>0</td>\n",
       "      <td>0</td>\n",
       "      <td>...</td>\n",
       "      <td>0</td>\n",
       "      <td>0</td>\n",
       "      <td>8</td>\n",
       "      <td>20</td>\n",
       "      <td>16</td>\n",
       "      <td>2</td>\n",
       "      <td>3</td>\n",
       "      <td>0</td>\n",
       "      <td>3</td>\n",
       "      <td>16</td>\n",
       "    </tr>\n",
       "    <tr>\n",
       "      <th>4205</th>\n",
       "      <td>0</td>\n",
       "      <td>0</td>\n",
       "      <td>0</td>\n",
       "      <td>0</td>\n",
       "      <td>0</td>\n",
       "      <td>0</td>\n",
       "      <td>0</td>\n",
       "      <td>0</td>\n",
       "      <td>0</td>\n",
       "      <td>0</td>\n",
       "      <td>...</td>\n",
       "      <td>0</td>\n",
       "      <td>0</td>\n",
       "      <td>31</td>\n",
       "      <td>16</td>\n",
       "      <td>40</td>\n",
       "      <td>3</td>\n",
       "      <td>3</td>\n",
       "      <td>0</td>\n",
       "      <td>7</td>\n",
       "      <td>7</td>\n",
       "    </tr>\n",
       "    <tr>\n",
       "      <th>4206</th>\n",
       "      <td>0</td>\n",
       "      <td>1</td>\n",
       "      <td>1</td>\n",
       "      <td>0</td>\n",
       "      <td>0</td>\n",
       "      <td>0</td>\n",
       "      <td>0</td>\n",
       "      <td>0</td>\n",
       "      <td>0</td>\n",
       "      <td>0</td>\n",
       "      <td>...</td>\n",
       "      <td>0</td>\n",
       "      <td>0</td>\n",
       "      <td>8</td>\n",
       "      <td>23</td>\n",
       "      <td>38</td>\n",
       "      <td>0</td>\n",
       "      <td>3</td>\n",
       "      <td>0</td>\n",
       "      <td>6</td>\n",
       "      <td>4</td>\n",
       "    </tr>\n",
       "    <tr>\n",
       "      <th>4207</th>\n",
       "      <td>0</td>\n",
       "      <td>0</td>\n",
       "      <td>0</td>\n",
       "      <td>1</td>\n",
       "      <td>0</td>\n",
       "      <td>0</td>\n",
       "      <td>0</td>\n",
       "      <td>0</td>\n",
       "      <td>0</td>\n",
       "      <td>0</td>\n",
       "      <td>...</td>\n",
       "      <td>0</td>\n",
       "      <td>0</td>\n",
       "      <td>9</td>\n",
       "      <td>19</td>\n",
       "      <td>25</td>\n",
       "      <td>5</td>\n",
       "      <td>3</td>\n",
       "      <td>0</td>\n",
       "      <td>11</td>\n",
       "      <td>20</td>\n",
       "    </tr>\n",
       "    <tr>\n",
       "      <th>4208</th>\n",
       "      <td>0</td>\n",
       "      <td>0</td>\n",
       "      <td>0</td>\n",
       "      <td>0</td>\n",
       "      <td>0</td>\n",
       "      <td>0</td>\n",
       "      <td>0</td>\n",
       "      <td>0</td>\n",
       "      <td>0</td>\n",
       "      <td>1</td>\n",
       "      <td>...</td>\n",
       "      <td>0</td>\n",
       "      <td>0</td>\n",
       "      <td>46</td>\n",
       "      <td>19</td>\n",
       "      <td>3</td>\n",
       "      <td>2</td>\n",
       "      <td>3</td>\n",
       "      <td>0</td>\n",
       "      <td>6</td>\n",
       "      <td>22</td>\n",
       "    </tr>\n",
       "  </tbody>\n",
       "</table>\n",
       "<p>4209 rows × 364 columns</p>\n",
       "</div>"
      ],
      "text/plain": [
       "      X10  X12  X13  X14  X15  X16  X17  X18  X19  X20  ...  X384  X385  X0  \\\n",
       "0       0    0    1    0    0    0    0    1    0    0  ...     0     0  32   \n",
       "1       0    0    0    0    0    0    0    1    0    0  ...     0     0  32   \n",
       "2       0    0    0    0    0    0    1    0    0    0  ...     0     0  20   \n",
       "3       0    0    0    0    0    0    0    0    0    0  ...     0     0  20   \n",
       "4       0    0    0    0    0    0    0    0    0    0  ...     0     0  20   \n",
       "...   ...  ...  ...  ...  ...  ...  ...  ...  ...  ...  ...   ...   ...  ..   \n",
       "4204    0    0    0    1    0    0    0    0    0    0  ...     0     0   8   \n",
       "4205    0    0    0    0    0    0    0    0    0    0  ...     0     0  31   \n",
       "4206    0    1    1    0    0    0    0    0    0    0  ...     0     0   8   \n",
       "4207    0    0    0    1    0    0    0    0    0    0  ...     0     0   9   \n",
       "4208    0    0    0    0    0    0    0    0    0    1  ...     0     0  46   \n",
       "\n",
       "      X1  X2  X3  X4  X5  X6  X8  \n",
       "0     23  17   0   3  24   9  14  \n",
       "1     21  19   4   3  28  11  14  \n",
       "2     24  34   2   3  27   9  23  \n",
       "3     21  34   5   3  27  11   4  \n",
       "4     23  34   5   3  12   3  13  \n",
       "...   ..  ..  ..  ..  ..  ..  ..  \n",
       "4204  20  16   2   3   0   3  16  \n",
       "4205  16  40   3   3   0   7   7  \n",
       "4206  23  38   0   3   0   6   4  \n",
       "4207  19  25   5   3   0  11  20  \n",
       "4208  19   3   2   3   0   6  22  \n",
       "\n",
       "[4209 rows x 364 columns]"
      ]
     },
     "execution_count": 18,
     "metadata": {},
     "output_type": "execute_result"
    }
   ],
   "source": [
    "X_train_clean = pd.merge(X_train_num_nv0, X_train_cat_trans, left_index=True, right_index=True)\n",
    "X_test_clean = pd.merge(X_test_num_nv0, X_test_cat_trans, left_index=True, right_index=True)\n",
    "print(X_train_clean.shape, X_test_clean.shape)\n",
    "X_train_clean"
   ]
  },
  {
   "cell_type": "markdown",
   "id": "d3c7ab02",
   "metadata": {},
   "source": [
    "### Explore"
   ]
  },
  {
   "cell_type": "markdown",
   "id": "98ca4e2b",
   "metadata": {},
   "source": [
    "Let's see the distribution of the target:"
   ]
  },
  {
   "cell_type": "code",
   "execution_count": 19,
   "id": "3afbde2d",
   "metadata": {},
   "outputs": [
    {
     "data": {
      "text/plain": [
       "<matplotlib.collections.PathCollection at 0x15903bc8910>"
      ]
     },
     "execution_count": 19,
     "metadata": {},
     "output_type": "execute_result"
    },
    {
     "data": {
      "image/png": "[encoded data removed]",
      "text/plain": [
       "<Figure size 432x288 with 1 Axes>"
      ]
     },
     "metadata": {
      "needs_background": "light"
     },
     "output_type": "display_data"
    }
   ],
   "source": [
    "plt.scatter(range(X_train_clean.shape[0]),y_train.sort_values(by = ['y']).values, s = 3)"
   ]
  },
  {
   "cell_type": "markdown",
   "id": "f7b1a47d",
   "metadata": {},
   "source": [
    "The last point is obviously an outlier, let's remove it:"
   ]
  },
  {
   "cell_type": "code",
   "execution_count": 20,
   "id": "db94080f",
   "metadata": {},
   "outputs": [
    {
     "name": "stdout",
     "output_type": "stream",
     "text": [
      "index to remove:  883\n",
      "New shape:  (4208, 364) (4208, 1)\n"
     ]
    }
   ],
   "source": [
    "outlier = y_train[y_train['y'] > 200].index[0]\n",
    "print('index to remove: ', outlier)\n",
    "y_train = y_train.drop(outlier, axis = 'index')\n",
    "X_train_clean = X_train_clean.drop(outlier, axis = 'index')\n",
    "print('New shape: ', X_train_clean.shape, y_train.shape)"
   ]
  },
  {
   "cell_type": "markdown",
   "id": "7fd18583",
   "metadata": {},
   "source": [
    "Let's display the frequency of y_train:"
   ]
  },
  {
   "cell_type": "code",
   "execution_count": 21,
   "id": "4df37dcb",
   "metadata": {},
   "outputs": [
    {
     "data": {
      "text/plain": [
       "Text(0.5, 1.0, 'y distribution')"
      ]
     },
     "execution_count": 21,
     "metadata": {},
     "output_type": "execute_result"
    },
    {
     "data": {
      "image/png": "[encoded data removed]",
      "text/plain": [
       "<Figure size 1440x576 with 2 Axes>"
      ]
     },
     "metadata": {
      "needs_background": "light"
     },
     "output_type": "display_data"
    }
   ],
   "source": [
    "fig, axes = plt.subplots(1,2,figsize=(20,8))\n",
    "\n",
    "# Figure 1\n",
    "axes[0].scatter(range(X_train_clean.shape[0]),y_train.sort_values(by = ['y']).values, s = 3)\n",
    "axes[0].set_xlabel('index', fontsize=12)\n",
    "axes[0].set_ylabel('y', fontsize=12)\n",
    "axes[0].set_title('y sorted values')\n",
    "\n",
    "# Figure 2\n",
    "y_train.plot.hist(bins=50, alpha=0.5, ax = axes[1])\n",
    "axes[1].set_xlabel('y value', fontsize=12)\n",
    "axes[1].set_title('y distribution')"
   ]
  },
  {
   "cell_type": "markdown",
   "id": "132b4819",
   "metadata": {},
   "source": [
    "The last point is likely to be an outlier."
   ]
  },
  {
   "cell_type": "markdown",
   "id": "911f7a58",
   "metadata": {},
   "source": [
    "The distribution is not Gaussian so the features are likely not independant variables."
   ]
  },
  {
   "cell_type": "markdown",
   "id": "ed660d22",
   "metadata": {},
   "source": [
    "## 4) Perform dimensionality reduction"
   ]
  },
  {
   "cell_type": "markdown",
   "id": "c194f557",
   "metadata": {},
   "source": [
    "Number of variable is too big to display all correlations, however we can display few of them and see some strong correlations:"
   ]
  },
  {
   "cell_type": "code",
   "execution_count": 22,
   "id": "be7f71a7",
   "metadata": {},
   "outputs": [
    {
     "data": {
      "text/plain": [
       "<AxesSubplot:>"
      ]
     },
     "execution_count": 22,
     "metadata": {},
     "output_type": "execute_result"
    },
    {
     "data": {
      "image/png": "[encoded data removed]",
      "text/plain": [
       "<Figure size 1080x504 with 2 Axes>"
      ]
     },
     "metadata": {
      "needs_background": "light"
     },
     "output_type": "display_data"
    }
   ],
   "source": [
    "fig = plt.figure(figsize=(15,7))\n",
    "sns.heatmap(X_train_clean.iloc[:,0:int(X_train_clean.shape[1]/10)].corr())"
   ]
  },
  {
   "cell_type": "markdown",
   "id": "c1374827",
   "metadata": {},
   "source": [
    "Let display the sum of correlated variable above 0.9"
   ]
  },
  {
   "cell_type": "code",
   "execution_count": 23,
   "id": "a750a065",
   "metadata": {},
   "outputs": [
    {
     "data": {
      "text/plain": [
       "221.0"
      ]
     },
     "execution_count": 23,
     "metadata": {},
     "output_type": "execute_result"
    }
   ],
   "source": [
    "df1 = abs( X_train_clean.corr() )> 0.9\n",
    "df2 = pd.DataFrame({col: pd.value_counts(df1[col]) for col in df1}).fillna(0)\n",
    "# ( Nr of True - the diagonal ) divided per 2 because symetrix matrix\n",
    "( df2.iloc[1,:].sum() - X_train_clean.shape[1] )/2"
   ]
  },
  {
   "cell_type": "markdown",
   "id": "7815e6ed",
   "metadata": {},
   "source": [
    "The number of highly correlated variables is high, the PCA dimensionality reduction should have a good benefit:"
   ]
  },
  {
   "cell_type": "code",
   "execution_count": 24,
   "id": "f147dd80",
   "metadata": {},
   "outputs": [
    {
     "name": "stdout",
     "output_type": "stream",
     "text": [
      "(4208, 364)\n",
      "(4208, 14)\n",
      "(4209, 364)\n",
      "(4209, 14)\n"
     ]
    }
   ],
   "source": [
    "model_PCA = PCA(n_components = 0.98, svd_solver=\"full\")\n",
    "model_PCA.fit(X_train_clean)\n",
    "X_train_clean_pca = model_PCA.transform(X_train_clean)\n",
    "print(X_train_clean.shape, '\\n', X_train_clean_pca.shape, sep = '')\n",
    "\n",
    "X_test_clean_pca = model_PCA.transform(X_test_clean)\n",
    "print(X_test_clean.shape, '\\n', X_test_clean_pca.shape, sep = '')"
   ]
  },
  {
   "cell_type": "markdown",
   "id": "d6a9b5ad",
   "metadata": {},
   "source": [
    "With 14 variables we can explain 98% of the model and furthermore the computation is quite short. We can also confirm it via feature importances of a random forest:"
   ]
  },
  {
   "cell_type": "code",
   "execution_count": 25,
   "id": "be82e810",
   "metadata": {},
   "outputs": [
    {
     "name": "stderr",
     "output_type": "stream",
     "text": [
      "C:\\Users\\b_pi\\AppData\\Local\\Temp/ipykernel_27976/2780572238.py:5: DataConversionWarning: A column-vector y was passed when a 1d array was expected. Please change the shape of y to (n_samples,), for example using ravel().\n",
      "  model.fit(X_train_clean, y_train)\n"
     ]
    },
    {
     "data": {
      "image/png": "[encoded data removed]",
      "text/plain": [
       "<Figure size 864x864 with 1 Axes>"
      ]
     },
     "metadata": {
      "needs_background": "light"
     },
     "output_type": "display_data"
    }
   ],
   "source": [
    "model = ensemble.RandomForestRegressor(n_estimators=200, \n",
    "                                       max_depth=10, min_samples_leaf=4, \n",
    "                                       max_features=0.2, n_jobs=-1, \n",
    "                                       random_state=0)\n",
    "model.fit(X_train_clean, y_train)\n",
    "feat_names = X_train_clean.columns.values\n",
    "\n",
    "## plot the importances ##\n",
    "importances = model.feature_importances_\n",
    "std = np.std([tree.feature_importances_ for tree in model.estimators_], axis=0)\n",
    "indices = np.argsort(importances)[::-1][:20]\n",
    "\n",
    "plt.figure(figsize=(12,12))\n",
    "plt.title(\"Feature importances\")\n",
    "plt.bar(range(len(indices)), importances[indices], color=\"r\", align=\"center\")\n",
    "plt.xticks(range(len(indices)), feat_names[indices], rotation='vertical')\n",
    "plt.xlim([-1, len(indices)])\n",
    "plt.show()"
   ]
  },
  {
   "cell_type": "markdown",
   "id": "b279f309",
   "metadata": {},
   "source": [
    "## XGBoost model"
   ]
  },
  {
   "cell_type": "markdown",
   "id": "0728874a",
   "metadata": {},
   "source": [
    "### Simple XGBRegressor (meaning default parameters)"
   ]
  },
  {
   "cell_type": "code",
   "execution_count": 26,
   "id": "561fc14d",
   "metadata": {},
   "outputs": [],
   "source": [
    "X_train2, X_valid2, y_train2, y_valid2 = train_test_split(X_train_clean_pca,y_train, test_size = 0.2, random_state = 43)"
   ]
  },
  {
   "cell_type": "code",
   "execution_count": 27,
   "id": "e698f61e",
   "metadata": {},
   "outputs": [
    {
     "data": {
      "text/plain": [
       "XGBRegressor(base_score=0.5, booster='gbtree', colsample_bylevel=1,\n",
       "             colsample_bynode=1, colsample_bytree=1, enable_categorical=False,\n",
       "             gamma=0, gpu_id=-1, importance_type=None,\n",
       "             interaction_constraints='', learning_rate=0.300000012,\n",
       "             max_delta_step=0, max_depth=6, min_child_weight=1, missing=nan,\n",
       "             monotone_constraints='()', n_estimators=100, n_jobs=8,\n",
       "             num_parallel_tree=1, predictor='auto', random_state=43,\n",
       "             reg_alpha=0, reg_lambda=1, scale_pos_weight=1, subsample=1,\n",
       "             tree_method='exact', validate_parameters=1, verbosity=None)"
      ]
     },
     "execution_count": 27,
     "metadata": {},
     "output_type": "execute_result"
    }
   ],
   "source": [
    "xgb_model1 = XGBRegressor(objective=\"reg:squarederror\", random_state = 43)\n",
    "xgb_model1.fit(X_train2, y_train2)"
   ]
  },
  {
   "cell_type": "code",
   "execution_count": 28,
   "id": "96a43bdf",
   "metadata": {},
   "outputs": [],
   "source": [
    "y_pred = xgb_model1.predict(X_valid2)"
   ]
  },
  {
   "cell_type": "code",
   "execution_count": 29,
   "id": "70a9482a",
   "metadata": {},
   "outputs": [
    {
     "name": "stdout",
     "output_type": "stream",
     "text": [
      "      Actual  Prediction\n",
      "4194   91.13  107.045914\n",
      "1909   89.89   94.425964\n",
      "309    99.48  102.517487\n",
      "\n",
      "Mean Absolute error:  6.402555034936466\n",
      "MSE:  82.7781058338459\n",
      "RMSE:  9.098247404519505\n",
      "\n",
      "Mean is: 100.59 thus RMSE is 9.04% away from the mean which is the limit to be acceptable.\n",
      "\n",
      "R2 score is egal to 0.47 which is not so good correlation however I ran the model without PCA and we can get a R2 = 0.55 so if the real data are really big and computation power limited, the PCA is a really good strategy\n"
     ]
    }
   ],
   "source": [
    "mean_abs_err = mean_absolute_error(y_pred, y_valid2)\n",
    "MSE = mean_squared_error(y_pred, y_valid2)\n",
    "RMSE = mean_squared_error(y_pred, y_valid2, squared = False)\n",
    "\n",
    "result = pd.DataFrame( {'Actual':y_valid2['y'], 'Prediction':y_pred} )\n",
    "print(result.head(3))\n",
    "print()\n",
    "print('Mean Absolute error: ', mean_abs_err)\n",
    "print('MSE: ', MSE)\n",
    "print('RMSE: ', RMSE)\n",
    "print()\n",
    "print( 'Mean is: {0:.2f} thus RMSE is {1:.2%} away from the mean which is the limit to be acceptable.'.format( np.mean(y_valid2['y']),  RMSE/np.mean(y_valid2['y']))  \n",
    "     )\n",
    "print()\n",
    "print('R2 score is egal to {0:.2f} which is not so good correlation however I ran the model without PCA and we can get a R2 = 0.55 so if the real data are really big and computation power limited, the PCA is a really good strategy'.format(r2_score(y_valid2['y'], y_pred)))"
   ]
  },
  {
   "cell_type": "markdown",
   "id": "018cb8fb",
   "metadata": {},
   "source": [
    "### Hyperparameter tuning of XGBoost"
   ]
  },
  {
   "cell_type": "markdown",
   "id": "e1148304",
   "metadata": {},
   "source": [
    "Hyperparameter tuning of XGBoost is not an easy task and require a good understanding and experience. Thus I will try some basic classical steps to improve the model."
   ]
  },
  {
   "cell_type": "markdown",
   "id": "1e1885ba",
   "metadata": {},
   "source": [
    "#### RandomSearchCV()"
   ]
  },
  {
   "cell_type": "markdown",
   "id": "aa1a07f2",
   "metadata": {},
   "source": [
    "**Important note**: the RandomSearch was quite long to process so below I put not realistic values for convenience but during my first run I put bigger intervals."
   ]
  },
  {
   "cell_type": "code",
   "execution_count": 30,
   "id": "d2da1e3b",
   "metadata": {},
   "outputs": [
    {
     "name": "stdout",
     "output_type": "stream",
     "text": [
      "Fitting 5 folds for each of 5 candidates, totalling 25 fits\n",
      "Best parameters: {'subsample': 0.5, 'n_estimators': 500, 'max_depth': 10, 'learning_rate': 0.01}\n",
      "Lowest RMSE:  8.935938176916853\n"
     ]
    }
   ],
   "source": [
    "params = { 'max_depth': [8, 10],\n",
    "           'learning_rate': [0.01, 0.02],\n",
    "           'subsample': [0.5, 1],\n",
    "           #'colsample_bytree': arange(0.4, 1, 0.1),\n",
    "           #'colsample_bylevel': arange(0.4, 1, 0.1),\n",
    "           'n_estimators': [500]}   #[100, 500, 1000]\n",
    "xgbr = xgb.XGBRegressor(seed = 20)\n",
    "clf = RandomizedSearchCV(estimator=xgbr,\n",
    "                         param_distributions=params,\n",
    "                         scoring='neg_mean_squared_error',\n",
    "                         n_iter=5, #25\n",
    "                         verbose=1)\n",
    "clf.fit(X_train2, y_train2)\n",
    "print(\"Best parameters:\", clf.best_params_)\n",
    "print(\"Lowest RMSE: \", (-clf.best_score_)**(1/2.0))"
   ]
  },
  {
   "cell_type": "markdown",
   "id": "481253d5",
   "metadata": {},
   "source": [
    "Now let's refine manually the last search using GridSearchCV()."
   ]
  },
  {
   "cell_type": "markdown",
   "id": "d2169315",
   "metadata": {},
   "source": [
    "#### GridSearchCV()"
   ]
  },
  {
   "cell_type": "markdown",
   "id": "a88dd552",
   "metadata": {},
   "source": [
    "**Important note**: again the computation was quite long so below values are not optimized"
   ]
  },
  {
   "cell_type": "code",
   "execution_count": 31,
   "id": "4a3e9e37",
   "metadata": {},
   "outputs": [
    {
     "name": "stdout",
     "output_type": "stream",
     "text": [
      "Fitting 4 folds for each of 18 candidates, totalling 72 fits\n"
     ]
    },
    {
     "data": {
      "text/plain": [
       "GridSearchCV(cv=4,\n",
       "             estimator=XGBRegressor(base_score=0.5, booster='gbtree',\n",
       "                                    colsample_bylevel=1, colsample_bynode=1,\n",
       "                                    colsample_bytree=1,\n",
       "                                    enable_categorical=False, gamma=0,\n",
       "                                    gpu_id=-1, importance_type=None,\n",
       "                                    interaction_constraints='',\n",
       "                                    learning_rate=0.300000012, max_delta_step=0,\n",
       "                                    max_depth=6, min_child_weight=1,\n",
       "                                    missing=nan, monotone_constraints='()',\n",
       "                                    n_estimators=100, n_jobs=8,\n",
       "                                    num_parallel_tree=1, predictor='auto',\n",
       "                                    random_state=43, reg_alpha=0, reg_lambda=1,\n",
       "                                    scale_pos_weight=1, subsample=1,\n",
       "                                    tree_method='exact', validate_parameters=1,\n",
       "                                    verbosity=None),\n",
       "             n_jobs=-1,\n",
       "             param_grid={'learning_rate': [0.01, 0.02], 'max_depth': [9],\n",
       "                         'min_child_weight': [39, 40, 41],\n",
       "                         'n_estimators': [79, 80, 81]},\n",
       "             scoring='neg_mean_squared_error', verbose=2)"
      ]
     },
     "execution_count": 31,
     "metadata": {},
     "output_type": "execute_result"
    }
   ],
   "source": [
    "model = xgb_model1\n",
    "param_grid = {\n",
    "    'n_estimators': [79, 80, 81],\n",
    "    'max_depth': [9],\n",
    "    'learning_rate': [0.01, 0.02],\n",
    "    'min_child_weight': [39, 40, 41]\n",
    "}\n",
    "cv = 4\n",
    "scoring_fit='neg_mean_squared_error'\n",
    "\n",
    "gs = GridSearchCV(\n",
    "    estimator=model,\n",
    "    param_grid=param_grid, \n",
    "    cv=cv, \n",
    "    n_jobs=-1, \n",
    "    scoring=scoring_fit,\n",
    "    verbose=2\n",
    ")\n",
    "gs.fit(X_train2, y_train2)"
   ]
  },
  {
   "cell_type": "code",
   "execution_count": 32,
   "id": "17d0c7fc",
   "metadata": {},
   "outputs": [
    {
     "data": {
      "text/plain": [
       "{'learning_rate': 0.02,\n",
       " 'max_depth': 9,\n",
       " 'min_child_weight': 41,\n",
       " 'n_estimators': 81}"
      ]
     },
     "execution_count": 32,
     "metadata": {},
     "output_type": "execute_result"
    }
   ],
   "source": [
    "gs.best_params_"
   ]
  },
  {
   "cell_type": "markdown",
   "id": "b68f4baf",
   "metadata": {},
   "source": [
    "#### Use of xgb.train"
   ]
  },
  {
   "cell_type": "markdown",
   "id": "54cd110c",
   "metadata": {},
   "source": [
    "Now that we got an idea of what could be the good value parameters, let's use the Learning API to have an easier access to the metric evaluation and some automatic hyperparameter tuning using early_stopping_rounds:"
   ]
  },
  {
   "cell_type": "code",
   "execution_count": 33,
   "id": "a74989cb",
   "metadata": {},
   "outputs": [
    {
     "name": "stdout",
     "output_type": "stream",
     "text": [
      "[0]\ttrain-rmse:99.90702\ttrain-r2:-64.00571\tvalid-rmse:99.87637\tvalid-r2:-62.36620\n",
      "[10]\ttrain-rmse:90.47140\ttrain-r2:-52.30674\tvalid-rmse:90.44939\tvalid-r2:-50.96890\n",
      "[20]\ttrain-rmse:81.94590\ttrain-r2:-42.73348\tvalid-rmse:81.92960\tvalid-r2:-41.63968\n",
      "[30]\ttrain-rmse:74.24413\ttrain-r2:-34.89912\tvalid-rmse:74.23737\tvalid-r2:-34.00881\n",
      "[40]\ttrain-rmse:67.28638\ttrain-r2:-28.48587\tvalid-rmse:67.29192\tvalid-r2:-27.76458\n",
      "[50]\ttrain-rmse:61.00220\ttrain-r2:-23.23542\tvalid-rmse:61.02446\tvalid-r2:-22.65593\n",
      "[60]\ttrain-rmse:55.32891\ttrain-r2:-18.93718\tvalid-rmse:55.36248\tvalid-r2:-18.46988\n",
      "[70]\ttrain-rmse:50.20822\ttrain-r2:-15.41758\tvalid-rmse:50.25220\tvalid-r2:-15.04141\n",
      "[80]\ttrain-rmse:45.58807\ttrain-r2:-12.53511\tvalid-rmse:45.64469\tvalid-r2:-12.23466\n",
      "[90]\ttrain-rmse:41.42130\ttrain-r2:-10.17395\tvalid-rmse:41.49189\tvalid-r2:-9.93600\n",
      "[100]\ttrain-rmse:37.66460\ttrain-r2:-8.23903\tvalid-rmse:37.75242\tvalid-r2:-8.05361\n",
      "[110]\ttrain-rmse:34.27972\ttrain-r2:-6.65304\tvalid-rmse:34.39009\tvalid-r2:-6.51275\n",
      "[120]\ttrain-rmse:31.23109\ttrain-r2:-5.35234\tvalid-rmse:31.36004\tvalid-r2:-5.24720\n",
      "[130]\ttrain-rmse:28.48719\ttrain-r2:-4.28517\tvalid-rmse:28.65484\tvalid-r2:-4.21589\n",
      "[140]\ttrain-rmse:26.01876\ttrain-r2:-3.40893\tvalid-rmse:26.23164\tvalid-r2:-3.37102\n",
      "[150]\ttrain-rmse:23.80112\ttrain-r2:-2.68939\tvalid-rmse:24.06158\tvalid-r2:-2.67774\n",
      "[160]\ttrain-rmse:21.81216\ttrain-r2:-2.09854\tvalid-rmse:22.11530\tvalid-r2:-2.10683\n",
      "[170]\ttrain-rmse:20.03075\ttrain-r2:-1.61309\tvalid-rmse:20.38075\tvalid-r2:-1.63859\n",
      "[180]\ttrain-rmse:18.43569\ttrain-r2:-1.21349\tvalid-rmse:18.84437\tvalid-r2:-1.25577\n",
      "[190]\ttrain-rmse:17.01228\ttrain-r2:-0.88488\tvalid-rmse:17.48485\tvalid-r2:-0.94203\n",
      "[200]\ttrain-rmse:15.72907\ttrain-r2:-0.61126\tvalid-rmse:16.29173\tvalid-r2:-0.68603\n",
      "[210]\ttrain-rmse:14.58329\ttrain-r2:-0.38507\tvalid-rmse:15.24729\tvalid-r2:-0.47679\n",
      "[220]\ttrain-rmse:13.55913\ttrain-r2:-0.19736\tvalid-rmse:14.32759\tvalid-r2:-0.30400\n",
      "[230]\ttrain-rmse:12.64439\ttrain-r2:-0.04125\tvalid-rmse:13.53482\tvalid-r2:-0.16369\n",
      "[240]\ttrain-rmse:11.83716\ttrain-r2:0.08745\tvalid-rmse:12.84009\tvalid-r2:-0.04729\n",
      "[250]\ttrain-rmse:11.12356\ttrain-r2:0.19416\tvalid-rmse:12.23821\tvalid-r2:0.04859\n",
      "[260]\ttrain-rmse:10.48387\ttrain-r2:0.28418\tvalid-rmse:11.71335\tvalid-r2:0.12845\n",
      "[270]\ttrain-rmse:9.89756\ttrain-r2:0.36201\tvalid-rmse:11.26436\tvalid-r2:0.19398\n",
      "[280]\ttrain-rmse:9.37552\ttrain-r2:0.42753\tvalid-rmse:10.88178\tvalid-r2:0.24780\n",
      "[290]\ttrain-rmse:8.91620\ttrain-r2:0.48225\tvalid-rmse:10.54559\tvalid-r2:0.29356\n",
      "[300]\ttrain-rmse:8.51871\ttrain-r2:0.52738\tvalid-rmse:10.26219\tvalid-r2:0.33102\n",
      "[310]\ttrain-rmse:8.16599\ttrain-r2:0.56571\tvalid-rmse:10.02636\tvalid-r2:0.36141\n",
      "[320]\ttrain-rmse:7.85770\ttrain-r2:0.59788\tvalid-rmse:9.82385\tvalid-r2:0.38695\n",
      "[330]\ttrain-rmse:7.59659\ttrain-r2:0.62416\tvalid-rmse:9.65078\tvalid-r2:0.40836\n",
      "[340]\ttrain-rmse:7.37044\ttrain-r2:0.64621\tvalid-rmse:9.50991\tvalid-r2:0.42551\n",
      "[350]\ttrain-rmse:7.17507\ttrain-r2:0.66472\tvalid-rmse:9.38729\tvalid-r2:0.44023\n",
      "[360]\ttrain-rmse:7.00300\ttrain-r2:0.68061\tvalid-rmse:9.28624\tvalid-r2:0.45221\n",
      "[370]\ttrain-rmse:6.85559\ttrain-r2:0.69391\tvalid-rmse:9.19998\tvalid-r2:0.46234\n",
      "[380]\ttrain-rmse:6.71460\ttrain-r2:0.70637\tvalid-rmse:9.12625\tvalid-r2:0.47092\n",
      "[390]\ttrain-rmse:6.58619\ttrain-r2:0.71749\tvalid-rmse:9.06184\tvalid-r2:0.47837\n",
      "[400]\ttrain-rmse:6.47723\ttrain-r2:0.72676\tvalid-rmse:9.00862\tvalid-r2:0.48448\n",
      "[410]\ttrain-rmse:6.37634\ttrain-r2:0.73521\tvalid-rmse:8.96143\tvalid-r2:0.48986\n",
      "[420]\ttrain-rmse:6.27354\ttrain-r2:0.74368\tvalid-rmse:8.91719\tvalid-r2:0.49489\n",
      "[430]\ttrain-rmse:6.17981\ttrain-r2:0.75128\tvalid-rmse:8.88151\tvalid-r2:0.49892\n",
      "[440]\ttrain-rmse:6.09751\ttrain-r2:0.75786\tvalid-rmse:8.85521\tvalid-r2:0.50188\n",
      "[450]\ttrain-rmse:6.02047\ttrain-r2:0.76394\tvalid-rmse:8.83280\tvalid-r2:0.50440\n",
      "[460]\ttrain-rmse:5.95453\ttrain-r2:0.76908\tvalid-rmse:8.81504\tvalid-r2:0.50639\n",
      "[470]\ttrain-rmse:5.88471\ttrain-r2:0.77447\tvalid-rmse:8.79710\tvalid-r2:0.50840\n",
      "[480]\ttrain-rmse:5.82539\ttrain-r2:0.77899\tvalid-rmse:8.78214\tvalid-r2:0.51007\n",
      "[490]\ttrain-rmse:5.76696\ttrain-r2:0.78340\tvalid-rmse:8.76713\tvalid-r2:0.51175\n",
      "[500]\ttrain-rmse:5.71851\ttrain-r2:0.78703\tvalid-rmse:8.75628\tvalid-r2:0.51295\n",
      "[510]\ttrain-rmse:5.67099\ttrain-r2:0.79055\tvalid-rmse:8.74768\tvalid-r2:0.51391\n",
      "[520]\ttrain-rmse:5.62695\ttrain-r2:0.79379\tvalid-rmse:8.74153\tvalid-r2:0.51459\n",
      "[530]\ttrain-rmse:5.58638\ttrain-r2:0.79675\tvalid-rmse:8.73733\tvalid-r2:0.51506\n",
      "[540]\ttrain-rmse:5.55144\ttrain-r2:0.79929\tvalid-rmse:8.73280\tvalid-r2:0.51556\n",
      "[550]\ttrain-rmse:5.52353\ttrain-r2:0.80130\tvalid-rmse:8.72926\tvalid-r2:0.51595\n",
      "[560]\ttrain-rmse:5.49083\ttrain-r2:0.80365\tvalid-rmse:8.72042\tvalid-r2:0.51693\n",
      "[570]\ttrain-rmse:5.46410\ttrain-r2:0.80556\tvalid-rmse:8.71799\tvalid-r2:0.51720\n",
      "[580]\ttrain-rmse:5.43315\ttrain-r2:0.80775\tvalid-rmse:8.71242\tvalid-r2:0.51782\n",
      "[590]\ttrain-rmse:5.40430\ttrain-r2:0.80979\tvalid-rmse:8.70855\tvalid-r2:0.51825\n",
      "[600]\ttrain-rmse:5.37234\ttrain-r2:0.81203\tvalid-rmse:8.70209\tvalid-r2:0.51896\n",
      "[610]\ttrain-rmse:5.34557\ttrain-r2:0.81390\tvalid-rmse:8.70035\tvalid-r2:0.51915\n",
      "[620]\ttrain-rmse:5.31534\ttrain-r2:0.81600\tvalid-rmse:8.69573\tvalid-r2:0.51967\n",
      "[630]\ttrain-rmse:5.28670\ttrain-r2:0.81798\tvalid-rmse:8.69343\tvalid-r2:0.51992\n",
      "[640]\ttrain-rmse:5.25831\ttrain-r2:0.81993\tvalid-rmse:8.69213\tvalid-r2:0.52006\n",
      "[650]\ttrain-rmse:5.22903\ttrain-r2:0.82193\tvalid-rmse:8.69092\tvalid-r2:0.52020\n",
      "[660]\ttrain-rmse:5.19291\ttrain-r2:0.82438\tvalid-rmse:8.69088\tvalid-r2:0.52020\n",
      "[670]\ttrain-rmse:5.16676\ttrain-r2:0.82614\tvalid-rmse:8.69009\tvalid-r2:0.52029\n",
      "[680]\ttrain-rmse:5.13546\ttrain-r2:0.82824\tvalid-rmse:8.69008\tvalid-r2:0.52029\n",
      "[690]\ttrain-rmse:5.11120\ttrain-r2:0.82986\tvalid-rmse:8.69063\tvalid-r2:0.52023\n",
      "[700]\ttrain-rmse:5.08988\ttrain-r2:0.83128\tvalid-rmse:8.69233\tvalid-r2:0.52004\n",
      "[710]\ttrain-rmse:5.06376\ttrain-r2:0.83300\tvalid-rmse:8.69303\tvalid-r2:0.51996\n",
      "[720]\ttrain-rmse:5.04175\ttrain-r2:0.83445\tvalid-rmse:8.69305\tvalid-r2:0.51996\n",
      "[730]\ttrain-rmse:5.01049\ttrain-r2:0.83650\tvalid-rmse:8.69492\tvalid-r2:0.51975\n",
      "[740]\ttrain-rmse:4.98998\ttrain-r2:0.83783\tvalid-rmse:8.69499\tvalid-r2:0.51975\n",
      "[742]\ttrain-rmse:4.98310\ttrain-r2:0.83828\tvalid-rmse:8.69412\tvalid-r2:0.51984\n"
     ]
    }
   ],
   "source": [
    "f_train = xgb.DMatrix(X_train2, label = y_train2)\n",
    "f_valid = xgb.DMatrix(X_valid2, label = y_valid2)\n",
    "\n",
    "# Setting the parameters for XGB\n",
    "params = {}\n",
    "params['objective'] = 'reg:squarederror'\n",
    "params['eta'] = 0.01  ## 0.02\n",
    "params['max_depth'] = 8 ## 4\n",
    "\n",
    "def scorer(m, w):\n",
    "    labels = w.get_label()\n",
    "    return 'r2', r2_score(labels, m)\n",
    "\n",
    "final_set = [(f_train, 'train'), (f_valid, 'valid')]\n",
    "\n",
    "xgb_model2 = xgb.train(params, f_train, 3000, final_set, early_stopping_rounds=50, feval=scorer, maximize=True, verbose_eval=10)\n"
   ]
  },
  {
   "cell_type": "code",
   "execution_count": 34,
   "id": "7b1627a1",
   "metadata": {},
   "outputs": [
    {
     "name": "stdout",
     "output_type": "stream",
     "text": [
      "Mean is: 100.59 thus RMSE is 8.64% away from the mean which is the limit to be acceptable.\n",
      "R2 score is:  0.5198432584207353 which is better.\n"
     ]
    }
   ],
   "source": [
    "y_pred2 = xgb_model2.predict(f_valid)\n",
    "print( 'Mean is: {0:.2f} thus RMSE is {1:.2%} away from the mean which is the limit to be acceptable.'.format( np.mean(y_valid2['y']),  8.69412/np.mean(y_valid2['y']))  \n",
    "     )\n",
    "print('R2 score is: ', r2_score(y_valid2, y_pred2), 'which is better.')"
   ]
  },
  {
   "cell_type": "markdown",
   "id": "fd2acfa9",
   "metadata": {},
   "source": [
    "Quite often an hyperparameter tuning improves slightly the model (but not drastically) which is our case here."
   ]
  },
  {
   "cell_type": "markdown",
   "id": "44e557ff",
   "metadata": {},
   "source": [
    "## 5) Predict your test_df values using XGBoost."
   ]
  },
  {
   "cell_type": "markdown",
   "id": "12e567d1",
   "metadata": {},
   "source": [
    "Using xgb_model1"
   ]
  },
  {
   "cell_type": "code",
   "execution_count": 35,
   "id": "dfcd4b12",
   "metadata": {},
   "outputs": [
    {
     "data": {
      "text/html": [
       "<div>\n",
       "<style scoped>\n",
       "    .dataframe tbody tr th:only-of-type {\n",
       "        vertical-align: middle;\n",
       "    }\n",
       "\n",
       "    .dataframe tbody tr th {\n",
       "        vertical-align: top;\n",
       "    }\n",
       "\n",
       "    .dataframe thead th {\n",
       "        text-align: right;\n",
       "    }\n",
       "</style>\n",
       "<table border=\"1\" class=\"dataframe\">\n",
       "  <thead>\n",
       "    <tr style=\"text-align: right;\">\n",
       "      <th></th>\n",
       "      <th>0</th>\n",
       "    </tr>\n",
       "  </thead>\n",
       "  <tbody>\n",
       "    <tr>\n",
       "      <th>0</th>\n",
       "      <td>79.684196</td>\n",
       "    </tr>\n",
       "    <tr>\n",
       "      <th>1</th>\n",
       "      <td>90.941910</td>\n",
       "    </tr>\n",
       "    <tr>\n",
       "      <th>2</th>\n",
       "      <td>81.559418</td>\n",
       "    </tr>\n",
       "    <tr>\n",
       "      <th>3</th>\n",
       "      <td>77.883659</td>\n",
       "    </tr>\n",
       "    <tr>\n",
       "      <th>4</th>\n",
       "      <td>105.827469</td>\n",
       "    </tr>\n",
       "    <tr>\n",
       "      <th>...</th>\n",
       "      <td>...</td>\n",
       "    </tr>\n",
       "    <tr>\n",
       "      <th>4204</th>\n",
       "      <td>109.052193</td>\n",
       "    </tr>\n",
       "    <tr>\n",
       "      <th>4205</th>\n",
       "      <td>96.013321</td>\n",
       "    </tr>\n",
       "    <tr>\n",
       "      <th>4206</th>\n",
       "      <td>96.742043</td>\n",
       "    </tr>\n",
       "    <tr>\n",
       "      <th>4207</th>\n",
       "      <td>105.995361</td>\n",
       "    </tr>\n",
       "    <tr>\n",
       "      <th>4208</th>\n",
       "      <td>94.520515</td>\n",
       "    </tr>\n",
       "  </tbody>\n",
       "</table>\n",
       "<p>4209 rows × 1 columns</p>\n",
       "</div>"
      ],
      "text/plain": [
       "               0\n",
       "0      79.684196\n",
       "1      90.941910\n",
       "2      81.559418\n",
       "3      77.883659\n",
       "4     105.827469\n",
       "...          ...\n",
       "4204  109.052193\n",
       "4205   96.013321\n",
       "4206   96.742043\n",
       "4207  105.995361\n",
       "4208   94.520515\n",
       "\n",
       "[4209 rows x 1 columns]"
      ]
     },
     "execution_count": 35,
     "metadata": {},
     "output_type": "execute_result"
    }
   ],
   "source": [
    "y_test_pred1 = xgb_model1.predict(X_test_clean_pca)\n",
    "pd.DataFrame(y_test_pred1)"
   ]
  },
  {
   "cell_type": "markdown",
   "id": "e15e1760",
   "metadata": {},
   "source": [
    "Using xgb_model2"
   ]
  },
  {
   "cell_type": "code",
   "execution_count": 36,
   "id": "057eec1c",
   "metadata": {},
   "outputs": [
    {
     "data": {
      "text/html": [
       "<div>\n",
       "<style scoped>\n",
       "    .dataframe tbody tr th:only-of-type {\n",
       "        vertical-align: middle;\n",
       "    }\n",
       "\n",
       "    .dataframe tbody tr th {\n",
       "        vertical-align: top;\n",
       "    }\n",
       "\n",
       "    .dataframe thead th {\n",
       "        text-align: right;\n",
       "    }\n",
       "</style>\n",
       "<table border=\"1\" class=\"dataframe\">\n",
       "  <thead>\n",
       "    <tr style=\"text-align: right;\">\n",
       "      <th></th>\n",
       "      <th>0</th>\n",
       "    </tr>\n",
       "  </thead>\n",
       "  <tbody>\n",
       "    <tr>\n",
       "      <th>0</th>\n",
       "      <td>76.572685</td>\n",
       "    </tr>\n",
       "    <tr>\n",
       "      <th>1</th>\n",
       "      <td>92.924034</td>\n",
       "    </tr>\n",
       "    <tr>\n",
       "      <th>2</th>\n",
       "      <td>78.793304</td>\n",
       "    </tr>\n",
       "    <tr>\n",
       "      <th>3</th>\n",
       "      <td>76.199112</td>\n",
       "    </tr>\n",
       "    <tr>\n",
       "      <th>4</th>\n",
       "      <td>115.350845</td>\n",
       "    </tr>\n",
       "    <tr>\n",
       "      <th>...</th>\n",
       "      <td>...</td>\n",
       "    </tr>\n",
       "    <tr>\n",
       "      <th>4204</th>\n",
       "      <td>107.755547</td>\n",
       "    </tr>\n",
       "    <tr>\n",
       "      <th>4205</th>\n",
       "      <td>100.809319</td>\n",
       "    </tr>\n",
       "    <tr>\n",
       "      <th>4206</th>\n",
       "      <td>94.898743</td>\n",
       "    </tr>\n",
       "    <tr>\n",
       "      <th>4207</th>\n",
       "      <td>106.986145</td>\n",
       "    </tr>\n",
       "    <tr>\n",
       "      <th>4208</th>\n",
       "      <td>94.706841</td>\n",
       "    </tr>\n",
       "  </tbody>\n",
       "</table>\n",
       "<p>4209 rows × 1 columns</p>\n",
       "</div>"
      ],
      "text/plain": [
       "               0\n",
       "0      76.572685\n",
       "1      92.924034\n",
       "2      78.793304\n",
       "3      76.199112\n",
       "4     115.350845\n",
       "...          ...\n",
       "4204  107.755547\n",
       "4205  100.809319\n",
       "4206   94.898743\n",
       "4207  106.986145\n",
       "4208   94.706841\n",
       "\n",
       "[4209 rows x 1 columns]"
      ]
     },
     "execution_count": 36,
     "metadata": {},
     "output_type": "execute_result"
    }
   ],
   "source": [
    "y_test_pred2 = xgb_model2.predict( xgb.DMatrix(X_test_clean_pca) )\n",
    "pd.DataFrame(y_test_pred2)"
   ]
  },
  {
   "cell_type": "markdown",
   "id": "ccf2a804",
   "metadata": {},
   "source": [
    "## 6) Further investigation"
   ]
  },
  {
   "cell_type": "markdown",
   "id": "f5c5f9a4",
   "metadata": {},
   "source": [
    "### To remove the strange tails from the original dataset"
   ]
  },
  {
   "cell_type": "markdown",
   "id": "8adb9aac",
   "metadata": {},
   "source": [
    "Because the R2 score is still quite low we could suggest some discussion on business level and remove the front and back tail of the distribution of the target if it makes sense from a business perspective (some cars could be very special: high luxus cars, cheap cars, cars with series of flawed...). Unfortunatly it means here we cannot use anymore the dataset_test having no y column. Here I would suggest graphically this cut:"
   ]
  },
  {
   "cell_type": "code",
   "execution_count": 37,
   "id": "3d4b46e4",
   "metadata": {},
   "outputs": [
    {
     "data": {
      "text/plain": [
       "[<matplotlib.lines.Line2D at 0x159100936d0>]"
      ]
     },
     "execution_count": 37,
     "metadata": {},
     "output_type": "execute_result"
    },
    {
     "data": {
      "image/png": "[encoded data removed]",
      "text/plain": [
       "<Figure size 1440x576 with 2 Axes>"
      ]
     },
     "metadata": {
      "needs_background": "light"
     },
     "output_type": "display_data"
    }
   ],
   "source": [
    "fig, axes = plt.subplots(1,2,figsize=(20,8))\n",
    "\n",
    "# Figure 1\n",
    "axes[0].scatter(range(X_train_clean.shape[0]),y_train.sort_values(by = ['y']).values, s = 3)\n",
    "axes[0].set_xlabel('index', fontsize=12)\n",
    "axes[0].set_ylabel('y', fontsize=12)\n",
    "axes[0].set_title('Cut proposed in red')\n",
    "\n",
    "ymax = 115*np.ones(X_train_clean.shape[0])\n",
    "ymin = 87*np.ones(X_train_clean.shape[0])\n",
    "\n",
    "axes[0].plot(range(X_train_clean.shape[0]), ymax, color = 'r')\n",
    "axes[0].plot(range(X_train_clean.shape[0]), ymin, color = 'r')\n",
    "\n",
    "# Figure 2\n",
    "y_train.plot.hist(bins=50, alpha=0.5, ax = axes[1])\n",
    "axes[1].set_xlabel('y value', fontsize=12)\n",
    "axes[1].set_title('Distribution cut proposed')\n",
    "axes[1].plot( 87*np.ones(480), np.arange(480), color = 'r')\n",
    "axes[1].plot( 115*np.ones(480), np.arange(480), color = 'r')"
   ]
  },
  {
   "cell_type": "code",
   "execution_count": 38,
   "id": "6563b909",
   "metadata": {},
   "outputs": [
    {
     "name": "stdout",
     "output_type": "stream",
     "text": [
      "y_train_trunc: (3494, 1)  and  X_train_trunc: (3494, 364)\n",
      "We kept 83.03% of data\n"
     ]
    }
   ],
   "source": [
    "y_lower = 87\n",
    "y_upper = 115\n",
    "y_train_trunc = y_train[ (y_train['y']>y_lower) & (y_train['y']<y_upper) ]\n",
    "X_train_clean_trunc = X_train_clean[X_train_clean.index.isin(y_train_trunc.index)]\n",
    "print('y_train_trunc:', y_train_trunc.shape, ' and ', 'X_train_trunc:', X_train_clean_trunc.shape)\n",
    "print( 'We kept {0:.2%} of data'.format(y_train_trunc.shape[0]/y_train.shape[0]) )"
   ]
  },
  {
   "cell_type": "code",
   "execution_count": 39,
   "id": "b09b737a",
   "metadata": {},
   "outputs": [
    {
     "name": "stdout",
     "output_type": "stream",
     "text": [
      "(3494, 364)\n",
      "(3494, 13)\n"
     ]
    }
   ],
   "source": [
    "model_PCA = PCA(n_components = 0.98, svd_solver=\"full\")\n",
    "model_PCA.fit(X_train_clean_trunc)\n",
    "X_train_clean_trunc_pca = model_PCA.transform(X_train_clean_trunc)\n",
    "print(X_train_clean_trunc.shape, '\\n', X_train_clean_trunc_pca.shape, sep = '')\n",
    "\n",
    "# Doesn't make sense to use test data\n",
    "# X_test_clean_pca = model_PCA.transform(X_test_clean)\n",
    "# print(X_test_clean.shape, '\\n', X_test_clean_pca.shape, sep = '')"
   ]
  },
  {
   "cell_type": "code",
   "execution_count": 40,
   "id": "a947867f",
   "metadata": {},
   "outputs": [],
   "source": [
    "X_train3, X_valid3, y_train3, y_valid3 = train_test_split(X_train_clean_trunc_pca,y_train_trunc, test_size = 0.2, random_state = 43)"
   ]
  },
  {
   "cell_type": "code",
   "execution_count": 41,
   "id": "1b582777",
   "metadata": {},
   "outputs": [
    {
     "name": "stdout",
     "output_type": "stream",
     "text": [
      "[0]\ttrain-rmse:98.19138\ttrain-r2:-136.25928\tvalid-rmse:98.08164\tvalid-r2:-132.92191\n",
      "[10]\ttrain-rmse:88.86871\ttrain-r2:-111.43272\tvalid-rmse:88.78545\tvalid-r2:-108.73870\n",
      "[20]\ttrain-rmse:80.43976\ttrain-r2:-91.11630\tvalid-rmse:80.36235\tvalid-r2:-88.90450\n",
      "[30]\ttrain-rmse:72.82010\ttrain-r2:-74.49140\tvalid-rmse:72.75352\tvalid-r2:-72.68588\n",
      "[40]\ttrain-rmse:65.93259\ttrain-r2:-60.88640\tvalid-rmse:65.88115\tvalid-r2:-59.42247\n",
      "[50]\ttrain-rmse:59.70746\ttrain-r2:-49.75188\tvalid-rmse:59.67506\tvalid-r2:-48.57491\n",
      "[60]\ttrain-rmse:54.08140\ttrain-r2:-40.63810\tvalid-rmse:54.06480\tvalid-r2:-39.69167\n",
      "[70]\ttrain-rmse:48.99760\ttrain-r2:-33.17784\tvalid-rmse:48.99501\tvalid-r2:-32.41795\n",
      "[80]\ttrain-rmse:44.40396\ttrain-r2:-27.06974\tvalid-rmse:44.41477\tvalid-r2:-26.46193\n",
      "[90]\ttrain-rmse:40.25407\ttrain-r2:-22.06825\tvalid-rmse:40.28067\tvalid-r2:-21.58758\n",
      "[100]\ttrain-rmse:36.50639\ttrain-r2:-17.97285\tvalid-rmse:36.54928\tvalid-r2:-17.59661\n",
      "[110]\ttrain-rmse:33.12319\ttrain-r2:-14.61922\tvalid-rmse:33.18303\tvalid-r2:-14.32881\n",
      "[120]\ttrain-rmse:30.06988\ttrain-r2:-11.87236\tvalid-rmse:30.14998\tvalid-r2:-11.65465\n",
      "[130]\ttrain-rmse:27.31514\ttrain-r2:-9.62189\tvalid-rmse:27.41681\tvalid-r2:-9.46429\n",
      "[140]\ttrain-rmse:24.83018\ttrain-r2:-7.77717\tvalid-rmse:24.96025\tvalid-r2:-7.67309\n",
      "[150]\ttrain-rmse:22.58865\ttrain-r2:-6.26399\tvalid-rmse:22.74898\tvalid-r2:-6.20444\n",
      "[160]\ttrain-rmse:20.56770\ttrain-r2:-5.02235\tvalid-rmse:20.76601\tvalid-r2:-5.00319\n",
      "[170]\ttrain-rmse:18.74748\ttrain-r2:-4.00358\tvalid-rmse:18.98677\tvalid-r2:-4.01855\n",
      "[180]\ttrain-rmse:17.10803\ttrain-r2:-3.16672\tvalid-rmse:17.39162\tvalid-r2:-3.21072\n",
      "[190]\ttrain-rmse:15.63082\ttrain-r2:-2.47823\tvalid-rmse:15.95690\tvalid-r2:-2.54465\n",
      "[200]\ttrain-rmse:14.30232\ttrain-r2:-1.91211\tvalid-rmse:14.68537\tvalid-r2:-2.00224\n",
      "[210]\ttrain-rmse:13.10580\ttrain-r2:-1.44524\tvalid-rmse:13.54466\tvalid-r2:-1.55395\n",
      "[220]\ttrain-rmse:12.03094\ttrain-r2:-1.06060\tvalid-rmse:12.54125\tvalid-r2:-1.18956\n",
      "[230]\ttrain-rmse:11.06526\ttrain-r2:-0.74308\tvalid-rmse:11.64812\tvalid-r2:-0.88881\n",
      "[240]\ttrain-rmse:10.19929\ttrain-r2:-0.48093\tvalid-rmse:10.85912\tvalid-r2:-0.64159\n",
      "[250]\ttrain-rmse:9.41761\ttrain-r2:-0.26263\tvalid-rmse:10.16386\tvalid-r2:-0.43812\n",
      "[260]\ttrain-rmse:8.72222\ttrain-r2:-0.08305\tvalid-rmse:9.54631\tvalid-r2:-0.26866\n",
      "[270]\ttrain-rmse:8.10144\ttrain-r2:0.06563\tvalid-rmse:9.01303\tvalid-r2:-0.13088\n",
      "[280]\ttrain-rmse:7.54811\ttrain-r2:0.18891\tvalid-rmse:8.54480\tvalid-r2:-0.01644\n",
      "[290]\ttrain-rmse:7.05848\ttrain-r2:0.29072\tvalid-rmse:8.13757\tvalid-r2:0.07814\n",
      "[300]\ttrain-rmse:6.61817\ttrain-r2:0.37645\tvalid-rmse:7.78705\tvalid-r2:0.15585\n",
      "[310]\ttrain-rmse:6.23057\ttrain-r2:0.44735\tvalid-rmse:7.49287\tvalid-r2:0.21842\n",
      "[320]\ttrain-rmse:5.88859\ttrain-r2:0.50635\tvalid-rmse:7.24435\tvalid-r2:0.26941\n",
      "[330]\ttrain-rmse:5.58220\ttrain-r2:0.55639\tvalid-rmse:7.03752\tvalid-r2:0.31053\n",
      "[340]\ttrain-rmse:5.30860\ttrain-r2:0.59881\tvalid-rmse:6.86084\tvalid-r2:0.34471\n",
      "[350]\ttrain-rmse:5.05594\ttrain-r2:0.63609\tvalid-rmse:6.69908\tvalid-r2:0.37525\n",
      "[360]\ttrain-rmse:4.83338\ttrain-r2:0.66742\tvalid-rmse:6.56132\tvalid-r2:0.40068\n",
      "[370]\ttrain-rmse:4.64206\ttrain-r2:0.69323\tvalid-rmse:6.45355\tvalid-r2:0.42021\n",
      "[380]\ttrain-rmse:4.46408\ttrain-r2:0.71630\tvalid-rmse:6.35934\tvalid-r2:0.43701\n",
      "[390]\ttrain-rmse:4.30729\ttrain-r2:0.73588\tvalid-rmse:6.28114\tvalid-r2:0.45077\n",
      "[400]\ttrain-rmse:4.17381\ttrain-r2:0.75199\tvalid-rmse:6.21644\tvalid-r2:0.46203\n",
      "[410]\ttrain-rmse:4.05327\ttrain-r2:0.76611\tvalid-rmse:6.16548\tvalid-r2:0.47081\n",
      "[420]\ttrain-rmse:3.94814\ttrain-r2:0.77809\tvalid-rmse:6.11908\tvalid-r2:0.47875\n",
      "[430]\ttrain-rmse:3.85363\ttrain-r2:0.78858\tvalid-rmse:6.07896\tvalid-r2:0.48556\n",
      "[440]\ttrain-rmse:3.77162\ttrain-r2:0.79749\tvalid-rmse:6.04646\tvalid-r2:0.49105\n",
      "[450]\ttrain-rmse:3.70628\ttrain-r2:0.80444\tvalid-rmse:6.01804\tvalid-r2:0.49582\n",
      "[460]\ttrain-rmse:3.64352\ttrain-r2:0.81101\tvalid-rmse:5.99737\tvalid-r2:0.49928\n",
      "[470]\ttrain-rmse:3.59129\ttrain-r2:0.81639\tvalid-rmse:5.98069\tvalid-r2:0.50206\n",
      "[480]\ttrain-rmse:3.54876\ttrain-r2:0.82071\tvalid-rmse:5.96813\tvalid-r2:0.50415\n",
      "[490]\ttrain-rmse:3.50746\ttrain-r2:0.82486\tvalid-rmse:5.95754\tvalid-r2:0.50591\n",
      "[500]\ttrain-rmse:3.47032\ttrain-r2:0.82855\tvalid-rmse:5.95055\tvalid-r2:0.50706\n",
      "[510]\ttrain-rmse:3.42961\ttrain-r2:0.83255\tvalid-rmse:5.94389\tvalid-r2:0.50817\n",
      "[520]\ttrain-rmse:3.39727\ttrain-r2:0.83569\tvalid-rmse:5.93870\tvalid-r2:0.50902\n",
      "[530]\ttrain-rmse:3.36406\ttrain-r2:0.83889\tvalid-rmse:5.93311\tvalid-r2:0.50995\n",
      "[540]\ttrain-rmse:3.33459\ttrain-r2:0.84170\tvalid-rmse:5.92962\tvalid-r2:0.51053\n",
      "[550]\ttrain-rmse:3.30964\ttrain-r2:0.84406\tvalid-rmse:5.92768\tvalid-r2:0.51085\n",
      "[560]\ttrain-rmse:3.28815\ttrain-r2:0.84608\tvalid-rmse:5.92599\tvalid-r2:0.51113\n",
      "[570]\ttrain-rmse:3.27001\ttrain-r2:0.84777\tvalid-rmse:5.92467\tvalid-r2:0.51134\n",
      "[580]\ttrain-rmse:3.25237\ttrain-r2:0.84941\tvalid-rmse:5.92478\tvalid-r2:0.51133\n",
      "[590]\ttrain-rmse:3.23448\ttrain-r2:0.85106\tvalid-rmse:5.92402\tvalid-r2:0.51145\n",
      "[600]\ttrain-rmse:3.21862\ttrain-r2:0.85252\tvalid-rmse:5.92488\tvalid-r2:0.51131\n",
      "[610]\ttrain-rmse:3.20075\ttrain-r2:0.85415\tvalid-rmse:5.92689\tvalid-r2:0.51098\n",
      "[620]\ttrain-rmse:3.18495\ttrain-r2:0.85559\tvalid-rmse:5.92738\tvalid-r2:0.51090\n",
      "[630]\ttrain-rmse:3.16804\ttrain-r2:0.85712\tvalid-rmse:5.92853\tvalid-r2:0.51070\n",
      "[634]\ttrain-rmse:3.16105\ttrain-r2:0.85775\tvalid-rmse:5.92931\tvalid-r2:0.51058\n"
     ]
    }
   ],
   "source": [
    "f_train = xgb.DMatrix(X_train3, label = y_train3)\n",
    "f_valid = xgb.DMatrix(X_valid3, label = y_valid3)\n",
    "\n",
    "# Setting the parameters for XGB\n",
    "params = {}\n",
    "params['objective'] = 'reg:squarederror'\n",
    "params['eta'] = 0.01  ## 0.02\n",
    "params['max_depth'] = 8 ## 4\n",
    "\n",
    "def scorer(m, w):\n",
    "    labels = w.get_label()\n",
    "    return 'r2', r2_score(labels, m)\n",
    "\n",
    "final_set = [(f_train, 'train'), (f_valid, 'valid')]\n",
    "\n",
    "xgb_model2 = xgb.train(params, f_train, 3000, final_set, early_stopping_rounds=50, feval=scorer, maximize=True, verbose_eval=10)\n"
   ]
  },
  {
   "cell_type": "markdown",
   "id": "dd959c75",
   "metadata": {},
   "source": [
    "R2 is almost the same because the new PCA leads to just 1 variable less to explain data with the same threshold (98%, 14 variables previously against 13 variables now). It means both models are similar and they actually are fitting better the data without the tails explaining why the RMSE is better:"
   ]
  },
  {
   "cell_type": "code",
   "execution_count": 42,
   "id": "894d1418",
   "metadata": {},
   "outputs": [
    {
     "name": "stdout",
     "output_type": "stream",
     "text": [
      "mean of y_valid is: 99.20 thus RMSE is 5.98% away from the mean which is a good improvement (previously it was 8.64%).\n"
     ]
    }
   ],
   "source": [
    "print( 'mean of y_valid is: {0:.2f} thus RMSE is {1:.2%} away from the mean which is a good improvement (previously it was {2:.2%}).'.format( np.mean(y_valid3['y']),  5.92853/np.mean(y_valid3['y']), 8.69412/np.mean(y_valid2['y']) )  \n",
    "     )"
   ]
  }
 ],
 "metadata": {
  "kernelspec": {
   "display_name": "Python 3 (ipykernel)",
   "language": "python",
   "name": "python3"
  },
  "language_info": {
   "codemirror_mode": {
    "name": "ipython",
    "version": 3
   },
   "file_extension": ".py",
   "mimetype": "text/x-python",
   "name": "python",
   "nbconvert_exporter": "python",
   "pygments_lexer": "ipython3",
   "version": "3.8.11"
  }
 },
 "nbformat": 4,
 "nbformat_minor": 5
}
